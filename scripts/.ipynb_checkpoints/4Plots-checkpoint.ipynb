{
 "cells": [
  {
   "cell_type": "markdown",
   "id": "e36eb555",
   "metadata": {},
   "source": [
    "# Merge and Dissolve Isochrones"
   ]
  },
  {
   "cell_type": "code",
   "execution_count": null,
   "id": "ff867a27",
   "metadata": {},
   "outputs": [],
   "source": [
    "import os\n",
    "import geopandas as gpd\n",
    "import pandas as pd\n",
    "\n",
    "def fusion_isochrones_15(isochrone_directory, output_directory, output_filename15):\n",
    "    \n",
    "    # Initialize an empty GeoDataFrame to store merged isochrones\n",
    "    merged_isochrones = gpd.GeoDataFrame()\n",
    "\n",
    "    # Iterate over each isochrone file\n",
    "    for filename in os.listdir(isochrone_directory):\n",
    "        if filename.endswith('.geojson'):\n",
    "            # Load isochrone data\n",
    "            isochrone_data = gpd.read_file(os.path.join(isochrone_directory, filename))\n",
    "            \n",
    "            # Merge isochrones with the same value\n",
    "            merged_isochrones = pd.concat([merged_isochrones, isochrone_data])\n",
    "\n",
    "    # Keep only the 'value' column\n",
    "    merged_isochrones = merged_isochrones[['value', 'geometry']]\n",
    "\n",
    "    # Filter out the isochrones with a value of 900 (15 minutes)\n",
    "    isochrones_15min = merged_isochrones[merged_isochrones['value'] == 900]\n",
    "\n",
    "    # Dissolve the filtered isochrones into a single geometry\n",
    "    isochrones_15min_dissolved = isochrones_15min.dissolve(by='value')\n",
    "\n",
    "    # Specify the output path\n",
    "    output_path = os.path.join(output_directory, output_filename15)\n",
    "\n",
    "    # Save the dissolved isochrones to a GeoJSON file with the specified output path\n",
    "    isochrones_15min_dissolved.to_file(output_path, driver='GeoJSON')\n",
    "\n",
    "    # Plot the dissolved isochrones\n",
    "    isochrones_15min_dissolved.plot()"
   ]
  },
  {
   "cell_type": "code",
   "execution_count": null,
   "id": "d299e978",
   "metadata": {},
   "outputs": [],
   "source": [
    "def fusion_isochrones_30(isochrone_directory, output_directory, output_filename30):\n",
    "    \n",
    "    # Initialize an empty GeoDataFrame to store merged isochrones\n",
    "    merged_isochrones = gpd.GeoDataFrame()\n",
    "\n",
    "    # Iterate over each isochrone file\n",
    "    for filename in os.listdir(isochrone_directory):\n",
    "        if filename.endswith('.geojson'):\n",
    "            # Load isochrone data\n",
    "            isochrone_data = gpd.read_file(os.path.join(isochrone_directory, filename))\n",
    "            \n",
    "            # Merge isochrones with the same value\n",
    "            merged_isochrones = pd.concat([merged_isochrones, isochrone_data])\n",
    "\n",
    "    # Keep only the 'value' column\n",
    "    merged_isochrones = merged_isochrones[['value', 'geometry']]\n",
    "\n",
    "    # Filter out the isochrones with a value of 900 (15 minutes)\n",
    "    isochrones_30min = merged_isochrones[merged_isochrones['value'] == 1800]\n",
    "\n",
    "    # Dissolve the filtered isochrones into a single geometry\n",
    "    isochrones_30min_dissolved = isochrones_30min.dissolve(by='value')\n",
    "\n",
    "    # Specify the output path\n",
    "    output_path = os.path.join(output_directory, output_filename30)\n",
    "\n",
    "    # Save the dissolved isochrones to a GeoJSON file with the specified output path\n",
    "    isochrones_30min_dissolved.to_file(output_path, driver='GeoJSON')\n",
    "\n",
    "    # Plot the dissolved isochrones\n",
    "    isochrones_30min_dissolved.plot()"
   ]
  },
  {
   "cell_type": "markdown",
   "id": "12bf2c2f",
   "metadata": {},
   "source": [
    "## Greenspaces\n",
    "\n",
    "### Walking"
   ]
  },
  {
   "cell_type": "code",
   "execution_count": null,
   "id": "004fdfdb",
   "metadata": {},
   "outputs": [],
   "source": [
    "isochrone_directory = '../data/output/barcelona/isochrones_foot_greenspaces_wheelchair/'\n",
    "output_directory = '../data/output/barcelona/merged/walk/definitive/greenspaces/'\n",
    "output_filename15 = '15.geojson'\n",
    "output_filename30 = '30.geojson'\n",
    "fusion_isochrones_15(isochrone_directory, output_directory, output_filename15)\n",
    "fusion_isochrones_30(isochrone_directory, output_directory, output_filename30)\n",
    "\n",
    "isochrone_directory = '../data/output/barcelona/isochrones_foot_greenspaces/'\n",
    "output_directory = '../data/output/barcelona/merged/walk/might/greenspaces/'\n",
    "output_filename15 = '15.geojson'\n",
    "output_filename30 = '30.geojson'\n",
    "fusion_isochrones_15(isochrone_directory, output_directory, output_filename15)\n",
    "fusion_isochrones_30(isochrone_directory, output_directory, output_filename30)"
   ]
  },
  {
   "cell_type": "code",
   "execution_count": null,
   "id": "62ca5471",
   "metadata": {},
   "outputs": [],
   "source": [
    "isochrone_directory = '../data/output/munich/isochrones_foot_greenspaces_wheelchair/'\n",
    "output_directory = '../data/output/munich/merged/walk/definitive/greenspaces/'\n",
    "output_filename15 = '15.geojson'\n",
    "output_filename30 = '30.geojson'\n",
    "fusion_isochrones_15(isochrone_directory, output_directory, output_filename15)\n",
    "fusion_isochrones_30(isochrone_directory, output_directory, output_filename30)\n",
    "\n",
    "isochrone_directory = '../data/output/munich/isochrones_foot_greenspaces/'\n",
    "output_directory = '../data/output/munich/merged/walk/might/greenspaces/'\n",
    "output_filename15 = '15.geojson'\n",
    "output_filename30 = '30.geojson'\n",
    "fusion_isochrones_15(isochrone_directory, output_directory, output_filename15)\n",
    "fusion_isochrones_30(isochrone_directory, output_directory, output_filename30)"
   ]
  },
  {
   "cell_type": "markdown",
   "id": "8f8f7875",
   "metadata": {},
   "source": [
    "### Wheelchair"
   ]
  },
  {
   "cell_type": "code",
   "execution_count": null,
   "id": "893233c2",
   "metadata": {},
   "outputs": [],
   "source": [
    "isochrone_directory = '../data/output/barcelona/isochrones_wheelchair_greenspaces/definitive'\n",
    "output_directory = '../data/output/barcelona/merged/wheelchair/definitive/greenspaces'\n",
    "output_filename15 = '15.geojson'\n",
    "output_filename30 = '30.geojson'\n",
    "fusion_isochrones_15(isochrone_directory, output_directory, output_filename15)\n",
    "fusion_isochrones_30(isochrone_directory, output_directory, output_filename30)\n",
    "\n",
    "\n",
    "isochrone_directory = '../data/output/barcelona/isochrones_wheelchair_greenspaces/might'\n",
    "output_directory = '../data/output/barcelona/merged/wheelchair/might/greenspaces'\n",
    "output_filename15 = '15.geojson'\n",
    "output_filename30 = '30.geojson'\n",
    "fusion_isochrones_15(isochrone_directory, output_directory, output_filename15)\n",
    "fusion_isochrones_30(isochrone_directory, output_directory, output_filename30)"
   ]
  },
  {
   "cell_type": "code",
   "execution_count": null,
   "id": "7d6d5445",
   "metadata": {},
   "outputs": [],
   "source": [
    "isochrone_directory = '../data/output/munich/isochrones_wheelchair_greenspaces/definitive'\n",
    "output_directory = '../data/output/munich/merged/wheelchair/definitive/greenspaces'\n",
    "output_filename15 = '15.geojson'\n",
    "output_filename30 = '30.geojson'\n",
    "fusion_isochrones_15(isochrone_directory, output_directory, output_filename15)\n",
    "fusion_isochrones_30(isochrone_directory, output_directory, output_filename30)\n",
    "\n",
    "\n",
    "isochrone_directory = '../data/output/munich/isochrones_wheelchair_greenspaces/might'\n",
    "output_directory = '../data/output/munich/merged/wheelchair/might/greenspaces'\n",
    "output_filename15 = '15.geojson'\n",
    "output_filename30 = '30.geojson'\n",
    "fusion_isochrones_15(isochrone_directory, output_directory, output_filename15)\n",
    "fusion_isochrones_30(isochrone_directory, output_directory, output_filename30)"
   ]
  },
  {
   "cell_type": "markdown",
   "id": "9db6a25e",
   "metadata": {},
   "source": [
    "## Public spaces\n",
    "### Walking"
   ]
  },
  {
   "cell_type": "code",
   "execution_count": null,
   "id": "87f7d21c",
   "metadata": {},
   "outputs": [],
   "source": [
    "isochrone_directory = '../data/output/barcelona/isochrones_foot_public_spaces_wheelchair/'\n",
    "output_directory = '../data/output/barcelona/merged/walk/definitive/publicspace/'\n",
    "output_filename15 = '15.geojson'\n",
    "output_filename30 = '30.geojson'\n",
    "fusion_isochrones_15(isochrone_directory, output_directory, output_filename15)\n",
    "fusion_isochrones_30(isochrone_directory, output_directory, output_filename30)\n",
    "\n",
    "isochrone_directory = '../data/output/barcelona/isochrones_foot_public_spaces/'\n",
    "output_directory = '../data/output/barcelona/merged/walk/might/publicspace/'\n",
    "output_filename15 = '15.geojson'\n",
    "output_filename30 = '30.geojson'\n",
    "fusion_isochrones_15(isochrone_directory, output_directory, output_filename15)\n",
    "fusion_isochrones_30(isochrone_directory, output_directory, output_filename30)"
   ]
  },
  {
   "cell_type": "code",
   "execution_count": null,
   "id": "7912852c",
   "metadata": {},
   "outputs": [],
   "source": [
    "isochrone_directory = '../data/output/munich/isochrones_foot_public_spaces_wheelchair/'\n",
    "output_directory = '../data/output/munich/merged/walk/definitive/publicspace/'\n",
    "output_filename15 = '15.geojson'\n",
    "output_filename30 = '30.geojson'\n",
    "fusion_isochrones_15(isochrone_directory, output_directory, output_filename15)\n",
    "fusion_isochrones_30(isochrone_directory, output_directory, output_filename30)\n",
    "\n",
    "isochrone_directory = '../data/output/munich/isochrones_foot_public_spaces/'\n",
    "output_directory = '../data/output/munich/merged/walk/might/publicspace/'\n",
    "output_filename15 = '15.geojson'\n",
    "output_filename30 = '30.geojson'\n",
    "fusion_isochrones_15(isochrone_directory, output_directory, output_filename15)\n",
    "fusion_isochrones_30(isochrone_directory, output_directory, output_filename30)"
   ]
  },
  {
   "cell_type": "markdown",
   "id": "7d999bd0",
   "metadata": {},
   "source": [
    "### Wheelchair"
   ]
  },
  {
   "cell_type": "code",
   "execution_count": null,
   "id": "ef2c302a",
   "metadata": {},
   "outputs": [],
   "source": [
    "isochrone_directory = '../data/output/barcelona/isochrones_wheelchair_public_spaces/definitive'\n",
    "output_directory = '../data/output/barcelona/merged/wheelchair/definitive/publicspace/'\n",
    "output_filename15 = '15.geojson'\n",
    "output_filename30 = '30.geojson'\n",
    "fusion_isochrones_15(isochrone_directory, output_directory, output_filename15)\n",
    "fusion_isochrones_30(isochrone_directory, output_directory, output_filename30)\n",
    "\n",
    "\n",
    "isochrone_directory = '../data/output/barcelona/isochrones_wheelchair_public_spaces/might'\n",
    "output_directory = '../data/output/barcelona/merged/wheelchair/might/publicspace/'\n",
    "output_filename15 = '15.geojson'\n",
    "output_filename30 = '30.geojson'\n",
    "fusion_isochrones_15(isochrone_directory, output_directory, output_filename15)\n",
    "fusion_isochrones_30(isochrone_directory, output_directory, output_filename30)"
   ]
  },
  {
   "cell_type": "code",
   "execution_count": null,
   "id": "01df1bfa",
   "metadata": {},
   "outputs": [],
   "source": [
    "isochrone_directory = '../data/output/munich/isochrones_wheelchair_public_spaces/definitive'\n",
    "output_directory = '../data/output/munich/merged/wheelchair/definitive/publicspace/'\n",
    "output_filename15 = '15.geojson'\n",
    "output_filename30 = '30.geojson'\n",
    "fusion_isochrones_15(isochrone_directory, output_directory, output_filename15)\n",
    "fusion_isochrones_30(isochrone_directory, output_directory, output_filename30)\n",
    "\n",
    "\n",
    "isochrone_directory = '../data/output/munich/isochrones_wheelchair_public_spaces/might'\n",
    "output_directory = '../data/output/munich/merged/wheelchair/might/publicspace/'\n",
    "output_filename15 = '15.geojson'\n",
    "output_filename30 = '30.geojson'\n",
    "fusion_isochrones_15(isochrone_directory, output_directory, output_filename15)\n",
    "fusion_isochrones_30(isochrone_directory, output_directory, output_filename30)"
   ]
  },
  {
   "cell_type": "markdown",
   "id": "f3af1e62",
   "metadata": {},
   "source": [
    "## Public buildings\n",
    "### Walking"
   ]
  },
  {
   "cell_type": "code",
   "execution_count": null,
   "id": "25c6719b",
   "metadata": {},
   "outputs": [],
   "source": [
    "isochrone_directory = '../data/output/barcelona/isochrones_foot_public_building_wheelchair/'\n",
    "output_directory = '../data/output/barcelona/merged/walk/definitive/publicbuilding/'\n",
    "output_filename15 = '15.geojson'\n",
    "output_filename30 = '30.geojson'\n",
    "fusion_isochrones_15(isochrone_directory, output_directory, output_filename15)\n",
    "fusion_isochrones_30(isochrone_directory, output_directory, output_filename30)\n",
    "\n",
    "\n",
    "isochrone_directory = '../data/output/barcelona/isochrones_foot_public_building_wheelchair/'\n",
    "output_directory = '../data/output/barcelona/merged/walk/might/publicbuilding/'\n",
    "output_filename15 = '15.geojson'\n",
    "output_filename30 = '30.geojson'\n",
    "fusion_isochrones_15(isochrone_directory, output_directory, output_filename15)\n",
    "fusion_isochrones_30(isochrone_directory, output_directory, output_filename30)"
   ]
  },
  {
   "cell_type": "code",
   "execution_count": null,
   "id": "fee85d84",
   "metadata": {},
   "outputs": [],
   "source": [
    "isochrone_directory = '../data/output/munich/isochrones_foot_public_building_wheelchair/'\n",
    "output_directory = '../data/output/munich/merged/walk/definitive/publicbuilding/'\n",
    "output_filename15 = '15.geojson'\n",
    "output_filename30 = '30.geojson'\n",
    "fusion_isochrones_15(isochrone_directory, output_directory, output_filename15)\n",
    "fusion_isochrones_30(isochrone_directory, output_directory, output_filename30)\n",
    "\n",
    "\n",
    "isochrone_directory = '../data/output/munich/isochrones_foot_public_building_wheelchair/'\n",
    "output_directory = '../data/output/munich/merged/walk/might/publicbuilding/'\n",
    "output_filename15 = '15.geojson'\n",
    "output_filename30 = '30.geojson'\n",
    "fusion_isochrones_15(isochrone_directory, output_directory, output_filename15)\n",
    "fusion_isochrones_30(isochrone_directory, output_directory, output_filename30)"
   ]
  },
  {
   "cell_type": "markdown",
   "id": "6f3d1410",
   "metadata": {},
   "source": [
    "### Wheelchair"
   ]
  },
  {
   "cell_type": "code",
   "execution_count": null,
   "id": "03df9b31",
   "metadata": {},
   "outputs": [],
   "source": [
    "isochrone_directory = '../data/output/barcelona/isochrones_wheelchair_public_building/definitive'\n",
    "output_directory = '../data/output/barcelona/merged/wheelchair/definitive/publicbuilding/'\n",
    "output_filename15 = '15.geojson'\n",
    "output_filename30 = '30.geojson'\n",
    "fusion_isochrones_15(isochrone_directory, output_directory, output_filename15)\n",
    "fusion_isochrones_30(isochrone_directory, output_directory, output_filename30)\n",
    "\n",
    "\n",
    "isochrone_directory = '../data/output/barcelona/isochrones_wheelchair_public_building/might'\n",
    "output_directory = '../data/output/barcelona/merged/wheelchair/might/publicbuilding/'\n",
    "output_filename15 = '15.geojson'\n",
    "output_filename30 = '30.geojson'\n",
    "fusion_isochrones_15(isochrone_directory, output_directory, output_filename15)\n",
    "fusion_isochrones_30(isochrone_directory, output_directory, output_filename30)"
   ]
  },
  {
   "cell_type": "code",
   "execution_count": null,
   "id": "28a70f04",
   "metadata": {},
   "outputs": [],
   "source": [
    "isochrone_directory = '../data/output/munich/isochrones_wheelchair_public_building/definitive'\n",
    "output_directory = '../data/output/munich/merged/wheelchair/definitive/publicbuilding/'\n",
    "output_filename15 = '15.geojson'\n",
    "output_filename30 = '30.geojson'\n",
    "fusion_isochrones_15(isochrone_directory, output_directory, output_filename15)\n",
    "fusion_isochrones_30(isochrone_directory, output_directory, output_filename30)\n",
    "\n",
    "\n",
    "isochrone_directory = '../data/output/munich/isochrones_wheelchair_public_building/might'\n",
    "output_directory = '../data/output/munich/merged/wheelchair/might/publicbuilding/'\n",
    "output_filename15 = '15.geojson'\n",
    "output_filename30 = '30.geojson'\n",
    "fusion_isochrones_15(isochrone_directory, output_directory, output_filename15)\n",
    "fusion_isochrones_30(isochrone_directory, output_directory, output_filename30)"
   ]
  },
  {
   "cell_type": "markdown",
   "id": "3150ffc8",
   "metadata": {},
   "source": [
    " "
   ]
  },
  {
   "cell_type": "markdown",
   "id": "7eb7c5db",
   "metadata": {},
   "source": [
    "# Plot Isochrones"
   ]
  },
  {
   "cell_type": "code",
   "execution_count": null,
   "id": "3efc3ec2",
   "metadata": {},
   "outputs": [],
   "source": [
    "import matplotlib.pyplot as plt\n",
    "\n",
    "def plot_isochrones(isochrone_directory, poi_data, title=None, blue_opacity=0.3, green_opacity=0.3, label_centroid='', save_directory=None):\n",
    "\n",
    "    # Initialize the plot\n",
    "    fig, ax = plt.subplots(figsize=(10, 10))\n",
    "\n",
    "    # Iterate over each isochrone file\n",
    "    for filename in os.listdir(isochrone_directory):\n",
    "        if filename.endswith('.geojson'):\n",
    "            # Load isochrone data\n",
    "            isochrone_data = gpd.read_file(os.path.join(isochrone_directory, filename))\n",
    "\n",
    "            # Create a GeoDataFrame for plotting\n",
    "            plot_data = gpd.GeoDataFrame(geometry=isochrone_data['geometry'], crs=isochrone_data.crs)\n",
    "            plot_data['value'] = isochrone_data['value']  # Add the 'value' column\n",
    "\n",
    "            # Iterate over each row in the isochrone data\n",
    "            for idx, row in plot_data.iterrows():\n",
    "                value = row['value']  # Get the value from the current row\n",
    "                color = 'blue' if value == 900 else 'green' if value == 1800 else None  # Assign color based on value\n",
    "                if color:\n",
    "                    alpha = blue_opacity if color == 'blue' else green_opacity  # Set opacity\n",
    "                    plot_data.loc[idx:idx].plot(ax=ax, color=color, alpha=alpha)  # Plot the geometry with the assigned color\n",
    "\n",
    "    # Plot the points of interest\n",
    "    poi_data.plot(ax=ax, color='red', markersize=50, alpha=0.7, label=label_centroid)\n",
    "\n",
    "    # Add legend\n",
    "    blue_patch = plt.Line2D([0], [0], marker='o', color='w', markerfacecolor='blue', markersize=10, label='15 Minutes')\n",
    "    green_patch = plt.Line2D([0], [0], marker='o', color='w', markerfacecolor='green', markersize=10, label='30 Minutes')\n",
    "    red_patch = plt.Line2D([0], [0], marker='o', color='w', markerfacecolor='red', markersize=10, label=label_centroid)\n",
    "    ax.legend(handles=[blue_patch, green_patch, red_patch])  # Reorder legend handles\n",
    "\n",
    "    # Set title\n",
    "    if title:\n",
    "        ax.set_title(title)\n",
    "\n",
    "    # Save the plot\n",
    "    if save_directory:\n",
    "        save_filename = os.path.join(save_directory, f\"{title.replace(' ', '_')}.png\")\n",
    "        plt.savefig(save_filename)\n",
    "\n",
    "    # Show the plot\n",
    "    plt.show()"
   ]
  },
  {
   "cell_type": "markdown",
   "id": "77f7815a",
   "metadata": {},
   "source": [
    "## Greenspaces\n",
    "### Walking"
   ]
  },
  {
   "cell_type": "code",
   "execution_count": null,
   "id": "4652a09b",
   "metadata": {},
   "outputs": [],
   "source": [
    "isochrone_directory = '../data/output/barcelona/merged/walk/definitive/greenspaces/'\n",
    "poi_data = gpd.read_file('../data/output/barcelona/access/wheelchair_greenspace.geojson')\n",
    "save_path = '../plots/barcelona/'\n",
    "label_centroid= \"Green spaces\"\n",
    "\n",
    "plot_isochrones(isochrone_directory, poi_data, title='Isochrones Green Spaces definitive wheelchair accessible (Walking)', label_centroid=label_centroid, save_directory='../plots/barcelona/')\n",
    "\n",
    "\n",
    "isochrone_directory = '../data/output/barcelona/merged/walk/might/greenspaces/'\n",
    "poi_data = gpd.read_file('../data/output/barcelona/access/combined_greenspaces_wheelchair.geojson')\n",
    "save_path = '../plots/barcelona/'\n",
    "label_centroid= \"Green spaces\"\n",
    "\n",
    "plot_isochrones(isochrone_directory, poi_data, title='Isochrones Green Spaces might be wheelchair accessible (Walking)', label_centroid=label_centroid, save_directory='../plots/barcelona/')"
   ]
  },
  {
   "cell_type": "code",
   "execution_count": null,
   "id": "8d285e71",
   "metadata": {},
   "outputs": [],
   "source": [
    "isochrone_directory = '../data/output/munich/merged/walk/definitive/greenspaces/'\n",
    "poi_data = gpd.read_file('../data/output/munich/access/wheelchair_greenspace.geojson')\n",
    "save_path = '../plots/munich/'\n",
    "label_centroid= \"Green spaces\"\n",
    "\n",
    "plot_isochrones(isochrone_directory, poi_data, title='Isochrones Green Spaces definitive wheelchair accessible (Walking)', label_centroid=label_centroid, save_directory='../plots/munich/')\n",
    "\n",
    "\n",
    "isochrone_directory = '../data/output/munich/merged/walk/might/greenspaces/'\n",
    "poi_data = gpd.read_file('../data/output/munich/access/combined_greenspaces_wheelchair.geojson')\n",
    "save_path = '../plots/munich/'\n",
    "label_centroid= \"Green spaces\"\n",
    "\n",
    "plot_isochrones(isochrone_directory, poi_data, title='Isochrones Green Spaces might be wheelchair accessible (Walking)', label_centroid=label_centroid, save_directory='../plots/munich/')"
   ]
  },
  {
   "cell_type": "markdown",
   "id": "4c264ccf",
   "metadata": {},
   "source": [
    "### Wheelchair"
   ]
  },
  {
   "cell_type": "code",
   "execution_count": null,
   "id": "30687aa9",
   "metadata": {},
   "outputs": [],
   "source": [
    "isochrone_directory = '../data/output/barcelona/merged/wheelchair/definitive/greenspaces/'\n",
    "poi_data = gpd.read_file('../data/output/barcelona/access/wheelchair_greenspace.geojson')\n",
    "save_path = '../plots/barcelona/'\n",
    "label_centroid= \"Green spaces\"\n",
    "\n",
    "plot_isochrones(isochrone_directory, poi_data, title='Isochrones Green Spaces definitive wheelchair accessible (Wheelchair)', label_centroid=label_centroid, save_directory='../plots/barcelona/')\n",
    "\n",
    "\n",
    "isochrone_directory = '../data/output/barcelona/merged/wheelchair/might/greenspaces/'\n",
    "poi_data = gpd.read_file('../data/output/barcelona/access/combined_greenspaces_wheelchair.geojson')\n",
    "save_path = '../plots/barcelona/'\n",
    "label_centroid= \"Green spaces\"\n",
    "\n",
    "plot_isochrones(isochrone_directory, poi_data, title='Isochrones Green Spaces might be wheelchair accessible (Wheelchair)', label_centroid=label_centroid, save_directory='../plots/barcelona/')"
   ]
  },
  {
   "cell_type": "code",
   "execution_count": null,
   "id": "dc14e699",
   "metadata": {},
   "outputs": [],
   "source": [
    "isochrone_directory = '../data/output/munich/merged/wheelchair/definitive/greenspaces/'\n",
    "poi_data = gpd.read_file('../data/output/munich/access/wheelchair_greenspace.geojson')\n",
    "save_path = '../plots/munich/'\n",
    "label_centroid= \"Green spaces\"\n",
    "\n",
    "plot_isochrones(isochrone_directory, poi_data, title='Isochrones Green Spaces definitive wheelchair accessible (wheelchair)', label_centroid=label_centroid, save_directory='../plots/munich/')\n",
    "\n",
    "\n",
    "isochrone_directory = '../data/output/munich/merged/wheelchair/might/greenspaces/'\n",
    "poi_data = gpd.read_file('../data/output/munich/access/combined_greenspaces_wheelchair.geojson')\n",
    "save_path = '../plots/munich/'\n",
    "label_centroid= \"Green spaces\"\n",
    "\n",
    "plot_isochrones(isochrone_directory, poi_data, title='Isochrones Green Spaces might be wheelchair accessible (wheelchair)', label_centroid=label_centroid, save_directory='../plots/munich/')"
   ]
  },
  {
   "cell_type": "markdown",
   "id": "1cc6cd73",
   "metadata": {},
   "source": [
    "## Public Spaces\n",
    "### Walking"
   ]
  },
  {
   "cell_type": "code",
   "execution_count": null,
   "id": "6954fa09",
   "metadata": {},
   "outputs": [],
   "source": [
    "isochrone_directory = '../data/output/barcelona/merged/walk/definitive/publicspace/'\n",
    "poi_data = gpd.read_file('../data/output/barcelona/access/wheelchair_publicspaces.geojson')\n",
    "save_path = '../plots/barcelona/'\n",
    "label_centroid= \"Public spaces\"\n",
    "\n",
    "plot_isochrones(isochrone_directory, poi_data, title='Isochrones Public Spaces definitive wheelchair accessible (Walking)', label_centroid=label_centroid, save_directory='../plots/barcelona/')\n",
    "\n",
    "\n",
    "isochrone_directory = '../data/output/barcelona/merged/walk/might/publicspace/'\n",
    "poi_data = gpd.read_file('../data/output/barcelona/access/combined_public_spaces_wheelchair.geojson')\n",
    "save_path = '../plots/barcelona/'\n",
    "label_centroid= \"Public spaces\"\n",
    "\n",
    "plot_isochrones(isochrone_directory, poi_data, title='Isochrones Public Spaces might be wheelchair accessible (Walking)', label_centroid=label_centroid, save_directory='../plots/barcelona/')"
   ]
  },
  {
   "cell_type": "code",
   "execution_count": null,
   "id": "80a91f6c",
   "metadata": {},
   "outputs": [],
   "source": [
    "isochrone_directory = '../data/output/munich/merged/walk/definitive/publicspace/'\n",
    "poi_data = gpd.read_file('../data/output/munich/access/wheelchair_publicspaces.geojson')\n",
    "save_path = '../plots/munich/'\n",
    "label_centroid= \"Public spaces\"\n",
    "\n",
    "plot_isochrones(isochrone_directory, poi_data, title='Isochrones Public Spaces definitive wheelchair accessible (Walking)', label_centroid=label_centroid, save_directory='../plots/munich/')\n",
    "\n",
    "\n",
    "isochrone_directory = '../data/output/munich/merged/walk/might/publicspace/'\n",
    "poi_data = gpd.read_file('../data/output/munich/access/combined_public_spaces_wheelchair.geojson')\n",
    "save_path = '../plots/munich/'\n",
    "label_centroid= \"Public spaces\"\n",
    "\n",
    "plot_isochrones(isochrone_directory, poi_data, title='Isochrones Public Spaces might be wheelchair accessible (Walking)', label_centroid=label_centroid, save_directory='../plots/munich/')"
   ]
  },
  {
   "cell_type": "markdown",
   "id": "02b67e4a",
   "metadata": {},
   "source": [
    "### wheelchair"
   ]
  },
  {
   "cell_type": "code",
   "execution_count": null,
   "id": "400fd0ad",
   "metadata": {},
   "outputs": [],
   "source": [
    "isochrone_directory = '../data/output/barcelona/merged/wheelchair/definitive/publicspace/'\n",
    "poi_data = gpd.read_file('../data/output/barcelona/access/wheelchair_publicspaces.geojson')\n",
    "save_path = '../plots/barcelona/'\n",
    "label_centroid= \"Public spaces\"\n",
    "\n",
    "plot_isochrones(isochrone_directory, poi_data, title='Isochrones Public Spaces definitive wheelchair accessible (wheelchair)', label_centroid=label_centroid, save_directory='../plots/barcelona/')\n",
    "\n",
    "\n",
    "isochrone_directory = '../data/output/barcelona/merged/wheelchair/might/publicspace/'\n",
    "poi_data = gpd.read_file('../data/output/barcelona/access/combined_public_spaces_wheelchair.geojson')\n",
    "save_path = '../plots/barcelona/'\n",
    "label_centroid= \"Public spaces\"\n",
    "\n",
    "plot_isochrones(isochrone_directory, poi_data, title='Isochrones Public Spaces might be wheelchair accessible (wheelchair)', label_centroid=label_centroid, save_directory='../plots/barcelona/')"
   ]
  },
  {
   "cell_type": "code",
   "execution_count": null,
   "id": "03a86d3b",
   "metadata": {},
   "outputs": [],
   "source": [
    "isochrone_directory = '../data/output/munich/merged/wheelchair/definitive/publicspace/'\n",
    "poi_data = gpd.read_file('../data/output/munich/access/wheelchair_publicspaces.geojson')\n",
    "save_path = '../plots/munich/'\n",
    "label_centroid= \"Public spaces\"\n",
    "\n",
    "plot_isochrones(isochrone_directory, poi_data, title='Isochrones Public Spaces definitive wheelchair accessible (wheelchair)', label_centroid=label_centroid, save_directory='../plots/munich/')\n",
    "\n",
    "\n",
    "isochrone_directory = '../data/output/munich/merged/wheelchair/might/publicspace/'\n",
    "poi_data = gpd.read_file('../data/output/munich/access/combined_public_spaces_wheelchair.geojson')\n",
    "save_path = '../plots/munich/'\n",
    "label_centroid= \"Public spaces\"\n",
    "\n",
    "plot_isochrones(isochrone_directory, poi_data, title='Isochrones Public Spaces might be wheelchair accessible (wheelchair)', label_centroid=label_centroid, save_directory='../plots/munich/')"
   ]
  },
  {
   "cell_type": "markdown",
   "id": "6ee0d846",
   "metadata": {},
   "source": [
    "## Public Buildings\n",
    "### Walking"
   ]
  },
  {
   "cell_type": "code",
   "execution_count": null,
   "id": "81293fd0",
   "metadata": {},
   "outputs": [],
   "source": [
    "isochrone_directory = '../data/output/barcelona/merged/walk/definitive/publicbuilding/'\n",
    "poi_data = gpd.read_file('../data/output/barcelona/access/wheelchair_public_building.geojson')\n",
    "save_path = '../plots/barcelona/'\n",
    "label_centroid= \"Public Buildings\"\n",
    "\n",
    "plot_isochrones(isochrone_directory, poi_data, title='Isochrones Public Buildings definitive wheelchair accessible (Walking)', label_centroid=label_centroid, save_directory='../plots/barcelona/')\n",
    "\n",
    "\n",
    "isochrone_directory = '../data/output/barcelona/merged/walk/might/publicbuilding/'\n",
    "poi_data = gpd.read_file('../data/output/barcelona/access/combined_public_building_wheelchair.geojson')\n",
    "save_path = '../plots/barcelona/'\n",
    "label_centroid= \"Public Buildings\"\n",
    "\n",
    "plot_isochrones(isochrone_directory, poi_data, title='Isochrones Public Buildings might be wheelchair accessible (Walking)', label_centroid=label_centroid, save_directory='../plots/barcelona/')"
   ]
  },
  {
   "cell_type": "code",
   "execution_count": null,
   "id": "2d0d5832",
   "metadata": {},
   "outputs": [],
   "source": [
    "isochrone_directory = '../data/output/munich/merged/walk/definitive/publicbuilding/'\n",
    "poi_data = gpd.read_file('../data/output/munich/access/wheelchair_public_building.geojson')\n",
    "save_path = '../plots/munich/'\n",
    "label_centroid= \"Public Buildings\"\n",
    "\n",
    "plot_isochrones(isochrone_directory, poi_data, title='Isochrones Public Buildings definitive wheelchair accessible (Walking)', label_centroid=label_centroid, save_directory='../plots/munich/')\n",
    "\n",
    "\n",
    "isochrone_directory = '../data/output/munich/merged/walk/might/publicbuilding/'\n",
    "poi_data = gpd.read_file('../data/output/munich/access/combined_public_building_wheelchair.geojson')\n",
    "save_path = '../plots/munich/'\n",
    "label_centroid= \"Public Buildings\"\n",
    "\n",
    "plot_isochrones(isochrone_directory, poi_data, title='Isochrones Public Buildings might be wheelchair accessible (Walking)', label_centroid=label_centroid, save_directory='../plots/munich/')"
   ]
  },
  {
   "cell_type": "markdown",
   "id": "8a5afd16",
   "metadata": {},
   "source": [
    "### Wheelchair"
   ]
  },
  {
   "cell_type": "code",
   "execution_count": null,
   "id": "4fb86ea0",
   "metadata": {},
   "outputs": [],
   "source": [
    "isochrone_directory = '../data/output/barcelona/merged/wheelchair/definitive/publicbuilding/'\n",
    "poi_data = gpd.read_file('../data/output/barcelona/access/wheelchair_public_building.geojson')\n",
    "save_path = '../plots/barcelona/'\n",
    "label_centroid= \"Public Buildings\"\n",
    "\n",
    "plot_isochrones(isochrone_directory, poi_data, title='Isochrones Public Buildings definitive wheelchair accessible (wheelchair)', label_centroid=label_centroid, save_directory='../plots/barcelona/')\n",
    "\n",
    "\n",
    "isochrone_directory = '../data/output/barcelona/merged/wheelchair/might/publicbuilding/'\n",
    "poi_data = gpd.read_file('../data/output/barcelona/access/combined_public_building_wheelchair.geojson')\n",
    "save_path = '../plots/barcelona/'\n",
    "label_centroid= \"Public Buildings\"\n",
    "\n",
    "plot_isochrones(isochrone_directory, poi_data, title='Isochrones Public Buildings might be wheelchair accessible (wheelchair)', label_centroid=label_centroid, save_directory='../plots/barcelona/')"
   ]
  },
  {
   "cell_type": "code",
   "execution_count": null,
   "id": "e4c50fa3",
   "metadata": {
    "scrolled": false
   },
   "outputs": [],
   "source": [
    "isochrone_directory = '../data/output/munich/merged/wheelchair/definitive/publicbuilding/'\n",
    "poi_data = gpd.read_file('../data/output/munich/access/wheelchair_public_building.geojson')\n",
    "save_path = '../plots/munich/'\n",
    "label_centroid= \"Public Buildings\"\n",
    "\n",
    "plot_isochrones(isochrone_directory, poi_data, title='Isochrones Public Buildings definitive wheelchair accessible (wheelchair)', label_centroid=label_centroid, save_directory='../plots/munich/')\n",
    "\n",
    "\n",
    "isochrone_directory = '../data/output/munich/merged/wheelchair/might/publicbuilding/'\n",
    "poi_data = gpd.read_file('../data/output/munich/access/combined_public_building_wheelchair.geojson')\n",
    "save_path = '../plots/munich/'\n",
    "label_centroid= \"Public Buildings\"\n",
    "\n",
    "plot_isochrones(isochrone_directory, poi_data, title='Isochrones Public Buildings might be wheelchair accessible (wheelchair)', label_centroid=label_centroid, save_directory='../plots/munich/')"
   ]
  },
  {
   "cell_type": "code",
   "execution_count": null,
   "id": "1ebd8ab3",
   "metadata": {},
   "outputs": [],
   "source": []
  }
 ],
 "metadata": {
  "kernelspec": {
   "display_name": "Python 3 (ipykernel)",
   "language": "python",
   "name": "python3"
  },
  "language_info": {
   "codemirror_mode": {
    "name": "ipython",
    "version": 3
   },
   "file_extension": ".py",
   "mimetype": "text/x-python",
   "name": "python",
   "nbconvert_exporter": "python",
   "pygments_lexer": "ipython3",
   "version": "3.11.8"
  }
 },
 "nbformat": 4,
 "nbformat_minor": 5
}
