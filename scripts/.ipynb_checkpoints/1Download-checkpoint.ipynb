{
 "cells": [
  {
   "cell_type": "markdown",
   "id": "6942202f",
   "metadata": {},
   "source": [
    "# Greenspaces"
   ]
  },
  {
   "cell_type": "code",
   "execution_count": null,
   "id": "25af0406",
   "metadata": {},
   "outputs": [],
   "source": [
    "import geopandas as gpd\n",
    "from ohsome import OhsomeClient\n",
    "import pandas as pd\n",
    "\n",
    "client = OhsomeClient()\n",
    "\n",
    "# Load the GeoJSON file with GeoPandas\n",
    "bpolys = gpd.read_file(\"../data/input/barcelona.geojson\")\n",
    "\n",
    "# Define which OSM features should be considered green spaces.\n",
    "filter_greenspaces = \"leisure=common or leisure=dog_park or leisure=firepit or leisure=fishing or leisure=garden or leisure=golf_course or leisure=miniature_golf or leisure=nature_reserve or leisure=park or leisure=picnic_table or leisure=pitch\"\n",
    "\n",
    "# Make the request to the ohsome API for green spaces\n",
    "response_greenspaces = client.elements.geometry.post(\n",
    "    bpolys=bpolys,\n",
    "    filter=filter_greenspaces,\n",
    "    properties=\"tags,metadata\"\n",
    ")\n",
    "\n",
    "# Convert the response to a GeoDataFrame for green spaces\n",
    "greenspaces_df = response_greenspaces.as_dataframe()\n",
    "greenspaces_df = greenspaces_df[greenspaces_df.geometry.type == 'Polygon']\n",
    "\n",
    "# Add a unique ID column starting from 1 and place it at the beginning\n",
    "greenspaces_df.insert(0, 'id', range(1, len(greenspaces_df) + 1))\n",
    "\n",
    "# Display and plot the green spaces GeoDataFrame\n",
    "display(greenspaces_df)\n",
    "\n",
    "# Save the green spaces GeoDataFrame to a GeoJSON file\n",
    "greenspaces_df.to_file(\"../data/output/greenspaces.geojson\", driver='GeoJSON')"
   ]
  },
  {
   "cell_type": "markdown",
   "id": "609c11af",
   "metadata": {},
   "source": [
    "# Public spaces"
   ]
  },
  {
   "cell_type": "code",
   "execution_count": null,
   "id": "6f6d43f2",
   "metadata": {},
   "outputs": [],
   "source": [
    "import geopandas as gpd\n",
    "from ohsome import OhsomeClient\n",
    "import pandas as pd\n",
    "\n",
    "client = OhsomeClient()\n",
    "\n",
    "# Load the GeoJSON file with GeoPandas\n",
    "bpolys = gpd.read_file(\"../data/input/barcelona.geojson\")\n",
    "\n",
    "# Define which OSM features should be considered green spaces.\n",
    "filter_publicspaces = \"leisure=adult_gaming_centre or leisure=amusement_arcade or leisure=bandstand or leisure=bathing_place or leisure=beach_resort or leisure=bowling_alley or leisure=dance or leisure=disc_golf_course or leisure=escape_game or leisure=fitness_centre or leisure=fitness_station or leisure=hackerspace or leisure=playground or leisure=resort or leisure=sports_centre or leisure=sports_hall or leisure=stadium or leisure=swimming_area or leisure=swimming_pool\"\n",
    "\n",
    "# Make the request to the ohsome API for green spaces\n",
    "response_publicspaces = client.elements.geometry.post(\n",
    "    bpolys=bpolys,\n",
    "    filter=filter_publicspaces,\n",
    "    properties=\"tags,metadata\"\n",
    ")\n",
    "\n",
    "# Convert the response to a GeoDataFrame for public spaces\n",
    "publicspaces_df = response_publicspaces.as_dataframe()\n",
    "# Filter out LineString geometries\n",
    "publicspaces_df = publicspaces_df[publicspaces_df.geometry.type.isin(['Point', 'Polygon'])]\n",
    "\n",
    "# Add a unique ID column starting from 1 and place it at the beginning\n",
    "publicspaces_df.insert(0, 'id', range(1, len(publicspaces_df) + 1))\n",
    "\n",
    "# Display and plot the public spaces GeoDataFrame\n",
    "display(publicspaces_df)\n",
    "\n",
    "# Save the green spaces GeoDataFrame to a GeoJSON file\n",
    "publicspaces_df.to_file(\"../data/output/publicspaces.geojson\", driver='GeoJSON')"
   ]
  },
  {
   "cell_type": "markdown",
   "id": "a555e1f7",
   "metadata": {},
   "source": [
    "# Public buildings"
   ]
  },
  {
   "cell_type": "code",
   "execution_count": null,
   "id": "1afcfe26",
   "metadata": {},
   "outputs": [],
   "source": [
    "import geopandas as gpd\n",
    "from ohsome import OhsomeClient\n",
    "import pandas as pd\n",
    "\n",
    "client = OhsomeClient()\n",
    "#public_building\n",
    "\n",
    "# Load the GeoJSON file with GeoPandas\n",
    "bpolys = gpd.read_file(\"../data/input/barcelona.geojson\")\n",
    "\n",
    "# Define which OSM features should be considered\n",
    "filter_public_building = \"building=public or building=civic or building=government\"\n",
    "\n",
    "# Make the request to the ohsome API for green spaces\n",
    "response_public_building = client.elements.geometry.post(\n",
    "    bpolys=bpolys,\n",
    "    filter=filter_public_building,\n",
    "    properties=\"tags,metadata\"\n",
    ")\n",
    "\n",
    "# Convert the response to a GeoDataFrame for public_building\n",
    "public_building_df = response_public_building.as_dataframe()\n",
    "public_building_df = public_building_df[public_building_df.geometry.type == 'Polygon']\n",
    "\n",
    "# Add a unique ID column starting from 1 and place it at the beginning\n",
    "public_building_df.insert(0, 'id', range(1, len(public_building_df) + 1))\n",
    "\n",
    "# Display and plot the public building GeoDataFrame\n",
    "display(public_building_df)\n",
    "\n",
    "# Save the public_building GeoDataFrame to a GeoJSON file\n",
    "public_building_df.to_file(\"../data/output/public_building.geojson\", driver='GeoJSON')"
   ]
  },
  {
   "cell_type": "markdown",
   "id": "d937b68b",
   "metadata": {},
   "source": [
    "# Ramps"
   ]
  },
  {
   "cell_type": "code",
   "execution_count": null,
   "id": "96d76803",
   "metadata": {},
   "outputs": [],
   "source": [
    "import geopandas as gpd\n",
    "from ohsome import OhsomeClient\n",
    "\n",
    "client = OhsomeClient()\n",
    "\n",
    "# Load the GeoJSON file with GeoPandas\n",
    "bpolys = gpd.read_file(\"../data/input/barcelona.geojson\")\n",
    "\n",
    "# Define which OSM features should be considered for ramps\n",
    "filter_ramp = \"ramp=*\"\n",
    "\n",
    "# Make the request to the ohsome API for ramps\n",
    "response_ramp = client.elements.geometry.post(\n",
    "    bpolys=bpolys,\n",
    "    filter=filter_ramp,\n",
    "    properties=\"tags,metadata\"\n",
    ")\n",
    "\n",
    "# Convert the response to a GeoDataFrame for ramps\n",
    "ramp_df = response_ramp.as_dataframe()\n",
    "\n",
    "# Add a unique ID column starting from 1 and place it at the beginning\n",
    "ramp_df.insert(0, 'id', range(1, len(ramp_df) + 1))\n",
    "\n",
    "# Display and plot the GeoDataFrame for ramps\n",
    "display(ramp_df)\n",
    "\n",
    "# Save the GeoDataFrame for ramps to a GeoJSON file\n",
    "ramp_df.to_file(\"../data/output/ramp.geojson\", driver='GeoJSON')"
   ]
  }
 ],
 "metadata": {
  "kernelspec": {
   "display_name": "Python 3 (ipykernel)",
   "language": "python",
   "name": "python3"
  },
  "language_info": {
   "codemirror_mode": {
    "name": "ipython",
    "version": 3
   },
   "file_extension": ".py",
   "mimetype": "text/x-python",
   "name": "python",
   "nbconvert_exporter": "python",
   "pygments_lexer": "ipython3",
   "version": "3.11.8"
  }
 },
 "nbformat": 4,
 "nbformat_minor": 5
}
