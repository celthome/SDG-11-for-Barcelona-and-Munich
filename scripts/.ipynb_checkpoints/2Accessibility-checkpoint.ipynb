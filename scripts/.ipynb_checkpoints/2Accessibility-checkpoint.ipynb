{
 "cells": [
  {
   "cell_type": "markdown",
   "id": "aeb4715d",
   "metadata": {},
   "source": [
    "# Wheelchair Access"
   ]
  },
  {
   "cell_type": "code",
   "execution_count": 3,
   "id": "22c843c5",
   "metadata": {},
   "outputs": [],
   "source": [
    "import geopandas as gpd\n",
    "import pandas as pd\n",
    "\n",
    "def wheelchair(layer, feature, values):\n",
    "    bpolys = gpd.read_file(layer)\n",
    "    filtered_greenspaces = bpolys[bpolys[feature].isin(values)]\n",
    "    output_path = output\n",
    "    filtered_greenspaces.to_file(output_path, driver=\"GeoJSON\")\n",
    "\n",
    "\n",
    "def null_wheelchair(layer, feature, output_path):\n",
    "    bpolys = gpd.read_file(layer)\n",
    "    filtered_greenspaces = bpolys[bpolys[feature].isna()]\n",
    "    filtered_greenspaces.to_file(output_path, driver=\"GeoJSON\")"
   ]
  },
  {
   "cell_type": "markdown",
   "id": "19b44d03",
   "metadata": {},
   "source": [
    "## Greenspaces"
   ]
  },
  {
   "cell_type": "code",
   "execution_count": null,
   "id": "5c81fbcd",
   "metadata": {},
   "outputs": [],
   "source": [
    "layer = \"../data/output/greenspaces.geojson\"\n",
    "feature = \"wheelchair\"\n",
    "values = [\"yes\", \"limited\", \"designated\"]\n",
    "output = \"../data/output/wheelchair_greenspace.geojson\"\n",
    "\n",
    "wheelchair(layer, feature, values)"
   ]
  },
  {
   "cell_type": "markdown",
   "id": "1259f7bf",
   "metadata": {},
   "source": [
    "those are only 27, therefore we will next get the ones with definitive no and the ones with no information."
   ]
  },
  {
   "cell_type": "code",
   "execution_count": null,
   "id": "f4c805f4",
   "metadata": {},
   "outputs": [],
   "source": [
    "layer = \"../data/output/greenspaces.geojson\"\n",
    "feature = \"wheelchair\"\n",
    "values = [\"no\"]\n",
    "output = \"../data/output/no_wheelchair_greenspace.geojson\"\n",
    "\n",
    "wheelchair(layer, feature, values)"
   ]
  },
  {
   "cell_type": "markdown",
   "id": "ee2c6789",
   "metadata": {},
   "source": [
    "no wheelchair are only 5. still a over 2000 missing. Those are the ones with no information:"
   ]
  },
  {
   "cell_type": "code",
   "execution_count": null,
   "id": "0efa28ae",
   "metadata": {},
   "outputs": [],
   "source": [
    "layer = \"../data/output/greenspaces.geojson\"\n",
    "feature = \"wheelchair\"\n",
    "output = \"../data/output/null_wheelchair_greenspace.geojson\"\n",
    "\n",
    "null_wheelchair(layer, feature, output)"
   ]
  },
  {
   "cell_type": "markdown",
   "id": "bab17a30",
   "metadata": {},
   "source": [
    "Um sich jetzt anzunähern: Alle greenspaces, die eine ramp in sich haben, werden als mit wheelchair accessible aufgenommen."
   ]
  },
  {
   "cell_type": "code",
   "execution_count": null,
   "id": "a2b49ac4",
   "metadata": {},
   "outputs": [],
   "source": [
    "# Load the GeoJSON files for ramps and green spaces\n",
    "ramps = gpd.read_file(\"../data/output/ramp.geojson\")\n",
    "greenspaces = gpd.read_file(\"../data/output/greenspaces.geojson\")\n",
    "\n",
    "# Perform a spatial join to find ramps within green spaces\n",
    "joined_data = gpd.sjoin(greenspaces, ramps, how=\"inner\", op=\"intersects\")\n",
    "\n",
    "# Extract unique green space indices that have at least one ramp within them\n",
    "green_spaces_with_ramps_indices = joined_data.index.unique()\n",
    "\n",
    "# Filter the green spaces GeoDataFrame to include only those with ramps\n",
    "greenspaces_with_ramps = greenspaces.loc[green_spaces_with_ramps_indices]\n",
    "\n",
    "# Save the resulting GeoDataFrame as a new GeoJSON file\n",
    "output_path = \"../data/output/greenspaces_with_ramps.geojson\"\n",
    "greenspaces_with_ramps.to_file(output_path, driver=\"GeoJSON\")"
   ]
  },
  {
   "cell_type": "code",
   "execution_count": null,
   "id": "f6f37f54",
   "metadata": {},
   "outputs": [],
   "source": [
    "# Load the GeoJSON files for wheelchair accessible green spaces and green spaces with ramps\n",
    "wheelchair_greenspaces = gpd.read_file(\"../data/output/wheelchair_greenspace.geojson\")\n",
    "greenspaces_with_ramps = gpd.read_file(\"../data/output/greenspaces_with_ramps.geojson\")\n",
    "\n",
    "# Concatenate the two GeoDataFrames\n",
    "combined_greenspaces = gpd.GeoDataFrame(pd.concat([wheelchair_greenspaces, greenspaces_with_ramps], ignore_index=True))\n",
    "\n",
    "# Remove duplicate geometries\n",
    "combined_greenspaces_unique = combined_greenspaces.drop_duplicates(subset=['geometry'])\n",
    "\n",
    "# Save the resulting GeoDataFrame as a new GeoJSON file\n",
    "output_path = \"../data/output/combined_greenspaces_wheelchair.geojson\"\n",
    "combined_greenspaces_unique.to_file(output_path, driver=\"GeoJSON\")"
   ]
  },
  {
   "cell_type": "markdown",
   "id": "20fe3c95",
   "metadata": {},
   "source": [
    "Zusammenführen der beiden layer die accessible mit wheelchair sind: sind immerhin 97 statt zu Beginn 27"
   ]
  },
  {
   "cell_type": "markdown",
   "id": "e14e31d4",
   "metadata": {},
   "source": [
    "## Public spaces"
   ]
  },
  {
   "cell_type": "code",
   "execution_count": null,
   "id": "e37bf5d9",
   "metadata": {},
   "outputs": [],
   "source": [
    "layer = \"../data/output/publicspaces.geojson\"\n",
    "feature = \"wheelchair\"\n",
    "values = [\"yes\", \"limited\"]\n",
    "output = \"../data/output/wheelchair_publicspaces.geojson\"\n",
    "\n",
    "wheelchair(layer, feature, values)"
   ]
  },
  {
   "cell_type": "code",
   "execution_count": null,
   "id": "ac93f270",
   "metadata": {},
   "outputs": [],
   "source": [
    "layer = \"../data/output/publicspaces.geojson\"\n",
    "feature = \"wheelchair\"\n",
    "output = \"../data/output/null_wheelchair_publicspaces.geojson\"\n",
    "\n",
    "null_wheelchair(layer, feature, output)"
   ]
  },
  {
   "cell_type": "code",
   "execution_count": null,
   "id": "9f231052",
   "metadata": {},
   "outputs": [],
   "source": [
    "layer = \"../data/output/publicspaces.geojson\"\n",
    "feature = \"wheelchair\"\n",
    "values = [\"no\"]\n",
    "output = \"../data/output/no_wheelchair_publicspaces.geojson\"\n",
    "\n",
    "wheelchair(layer, feature, values)"
   ]
  },
  {
   "cell_type": "code",
   "execution_count": 5,
   "id": "8df6481f",
   "metadata": {},
   "outputs": [],
   "source": [
    "null_wheelchair_p_spaces = gpd.read_file(\"../data/output/null_wheelchair_publicspaces.geojson\")\n",
    "wheelchair_p_spaces = gpd.read_file(\"../data/output/wheelchair_publicspaces.geojson\")\n",
    "\n",
    "# Concatenate the two GeoDataFrames\n",
    "combined_ps = gpd.GeoDataFrame(pd.concat([wheelchair_p_spaces, null_wheelchair_p_spaces], ignore_index=True))\n",
    "\n",
    "# Remove duplicate geometries\n",
    "combined_ps_unique = combined_ps.drop_duplicates(subset=['geometry'])\n",
    "\n",
    "# Save the resulting GeoDataFrame as a new GeoJSON file\n",
    "output_path = \"../data/output/combined_public_spaces_wheelchair.geojson\"\n",
    "combined_pb_unique.to_file(output_path, driver=\"GeoJSON\")"
   ]
  },
  {
   "cell_type": "markdown",
   "id": "c2bd2664",
   "metadata": {},
   "source": [
    "## Public buildings"
   ]
  },
  {
   "cell_type": "code",
   "execution_count": null,
   "id": "a8b347a6",
   "metadata": {},
   "outputs": [],
   "source": [
    "layer = \"../data/output/public_building.geojson\"\n",
    "feature = \"wheelchair\"\n",
    "values = [\"yes\", \"limited\"]\n",
    "output = \"../data/output/wheelchair_public_building.geojson\"\n",
    "\n",
    "wheelchair(layer, feature, values)"
   ]
  },
  {
   "cell_type": "markdown",
   "id": "709bbbba",
   "metadata": {},
   "source": [
    "sind nur 33 von 1003 public buildings"
   ]
  },
  {
   "cell_type": "code",
   "execution_count": null,
   "id": "39340e18",
   "metadata": {},
   "outputs": [],
   "source": [
    "layer = \"../data/output/public_building.geojson\"\n",
    "feature = \"wheelchair\"\n",
    "output = \"../data/output/null_wheelchair_public_buildings.geojson\"\n",
    "\n",
    "null_wheelchair(layer, feature, output)"
   ]
  },
  {
   "cell_type": "markdown",
   "id": "eee9f77c",
   "metadata": {},
   "source": [
    "das sind 968. welche definitv no?"
   ]
  },
  {
   "cell_type": "code",
   "execution_count": null,
   "id": "59a73fae",
   "metadata": {},
   "outputs": [],
   "source": [
    "layer = \"../data/output/public_building.geojson\"\n",
    "feature = \"wheelchair\"\n",
    "values = [\"no\"]\n",
    "output = \"../data/output/no_wheelchair_public_building.geojson\"\n",
    "\n",
    "wheelchair(layer, feature, values)"
   ]
  },
  {
   "cell_type": "markdown",
   "id": "715fb8df",
   "metadata": {},
   "source": [
    "2 haben ein no. Die meisten einfach keine Info. Kombinieren und annehmen, dass sie access haben?"
   ]
  },
  {
   "cell_type": "code",
   "execution_count": 4,
   "id": "f25672e5",
   "metadata": {},
   "outputs": [],
   "source": [
    "null_wheelchair_pb = gpd.read_file(\"../data/output/null_wheelchair_public_buildings.geojson\")\n",
    "wheelchair_pb = gpd.read_file(\"../data/output/wheelchair_public_building.geojson\")\n",
    "\n",
    "# Concatenate the two GeoDataFrames\n",
    "combined_pb = gpd.GeoDataFrame(pd.concat([wheelchair_pb, null_wheelchair_pb], ignore_index=True))\n",
    "\n",
    "# Remove duplicate geometries\n",
    "combined_pb_unique = combined_pb.drop_duplicates(subset=['geometry'])\n",
    "\n",
    "# Save the resulting GeoDataFrame as a new GeoJSON file\n",
    "output_path = \"../data/output/combined_public_building_wheelchair.geojson\"\n",
    "combined_pb_unique.to_file(output_path, driver=\"GeoJSON\")"
   ]
  },
  {
   "cell_type": "markdown",
   "id": "a31198eb",
   "metadata": {},
   "source": [
    " "
   ]
  },
  {
   "cell_type": "markdown",
   "id": "7b15f0d3",
   "metadata": {},
   "source": [
    "# Konsum Access"
   ]
  },
  {
   "cell_type": "code",
   "execution_count": 6,
   "id": "242f9e58",
   "metadata": {},
   "outputs": [],
   "source": [
    "def access(layer, feature, values):\n",
    "    bpolys = gpd.read_file(layer)\n",
    "    filtered_greenspaces = bpolys[bpolys[feature].isin(values)]\n",
    "    output_path = output\n",
    "    filtered_greenspaces.to_file(output_path, driver=\"GeoJSON\")"
   ]
  },
  {
   "cell_type": "markdown",
   "id": "55bf4495",
   "metadata": {},
   "source": [
    "## Greenspaces"
   ]
  },
  {
   "cell_type": "code",
   "execution_count": null,
   "id": "a3001adf",
   "metadata": {},
   "outputs": [],
   "source": [
    "layer = \"../data/output/greenspaces.geojson\"\n",
    "feature = \"access\"\n",
    "values = [\"yes\"]\n",
    "output = \"../data/output/free_access_greenspaces.geojson\"\n",
    "\n",
    "access(layer, feature, values)"
   ]
  },
  {
   "cell_type": "code",
   "execution_count": null,
   "id": "6f3208d5",
   "metadata": {},
   "outputs": [],
   "source": [
    "layer = \"../data/output/greenspaces.geojson\"\n",
    "feature = \"access\"\n",
    "values = [\"customers\", \"destination\"]\n",
    "output = \"../data/output/buy_access_greenspaces.geojson\"\n",
    "\n",
    "access(layer, feature, values)"
   ]
  },
  {
   "cell_type": "markdown",
   "id": "021c33ff",
   "metadata": {},
   "source": [
    "pitches sind buy access weil \"Bereich, der für die Ausübung einer bestimmten Sportart vorgesehen und normalerweise mit entsprechenden Markierungen versehen ist.\""
   ]
  },
  {
   "cell_type": "markdown",
   "id": "2010b9ec",
   "metadata": {},
   "source": [
    "## Public spaces"
   ]
  },
  {
   "cell_type": "code",
   "execution_count": null,
   "id": "02f25d34",
   "metadata": {},
   "outputs": [],
   "source": [
    "layer = \"../data/output/publicspaces.geojson\"\n",
    "feature = \"access\"\n",
    "values = [\"yes\"]\n",
    "output = \"../data/output/free_access_publicspace.geojson\"\n",
    "\n",
    "access(layer, feature, values)"
   ]
  },
  {
   "cell_type": "code",
   "execution_count": null,
   "id": "e0b0f319",
   "metadata": {},
   "outputs": [],
   "source": [
    "layer = \"../data/output/publicspaces.geojson\"\n",
    "feature = \"access\"\n",
    "values = [\"customers\", \"destination\"]\n",
    "output = \"../data/output/buy_access_publicspace.geojson\"\n",
    "\n",
    "access(layer, feature, values)"
   ]
  },
  {
   "cell_type": "markdown",
   "id": "d76ad6f7",
   "metadata": {},
   "source": [
    "## Public buildings"
   ]
  },
  {
   "cell_type": "code",
   "execution_count": null,
   "id": "9bc5290b",
   "metadata": {},
   "outputs": [],
   "source": [
    "layer = \"../data/output/public_building.geojson\"\n",
    "feature = \"access\"\n",
    "values = [\"yes\"]\n",
    "output = \"../data/output/free_access_public_building.geojson\"\n",
    "\n",
    "access(layer, feature, values)"
   ]
  },
  {
   "cell_type": "code",
   "execution_count": null,
   "id": "883e9b56",
   "metadata": {},
   "outputs": [],
   "source": [
    "layer = \"../data/output/public_building.geojson\"\n",
    "feature = \"access\"\n",
    "values = [\"customers\", \"destination\"]\n",
    "output = \"../data/output/buy_access_public_building.geojson\"\n",
    "\n",
    "access(layer, feature, values)"
   ]
  },
  {
   "cell_type": "markdown",
   "id": "6d45cc2a",
   "metadata": {},
   "source": [
    "2, aber falsch gemappt zum klettern und schwimmen"
   ]
  },
  {
   "cell_type": "code",
   "execution_count": null,
   "id": "ca4b10c0",
   "metadata": {},
   "outputs": [],
   "source": []
  },
  {
   "cell_type": "code",
   "execution_count": null,
   "id": "501e4035",
   "metadata": {},
   "outputs": [],
   "source": []
  }
 ],
 "metadata": {
  "kernelspec": {
   "display_name": "Python 3 (ipykernel)",
   "language": "python",
   "name": "python3"
  },
  "language_info": {
   "codemirror_mode": {
    "name": "ipython",
    "version": 3
   },
   "file_extension": ".py",
   "mimetype": "text/x-python",
   "name": "python",
   "nbconvert_exporter": "python",
   "pygments_lexer": "ipython3",
   "version": "3.11.8"
  }
 },
 "nbformat": 4,
 "nbformat_minor": 5
}
