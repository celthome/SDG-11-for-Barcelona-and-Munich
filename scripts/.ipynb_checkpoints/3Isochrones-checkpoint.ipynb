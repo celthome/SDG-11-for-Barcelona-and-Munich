{
 "cells": [
  {
   "cell_type": "markdown",
   "id": "5572c285",
   "metadata": {},
   "source": [
    "# Bike Isochrone"
   ]
  },
  {
   "cell_type": "code",
   "execution_count": 1,
   "id": "24b9243d",
   "metadata": {},
   "outputs": [],
   "source": [
    "import json\n",
    "import time\n",
    "import os\n",
    "import geopandas as gpd\n",
    "from openrouteservice import Client\n",
    "from openrouteservice.exceptions import ApiError\n",
    "\n",
    "def calculate_isochrones_bike(input_file, output_path, output_filename, print_statement, profile):\n",
    "    # Load poi data with GeoPandas\n",
    "    poi = gpd.read_file(input_file)\n",
    "\n",
    "    # Calculate centroids for each polygon\n",
    "    poi['centroid'] = poi['geometry'].centroid\n",
    "\n",
    "    # Change CRS to EPSG:4326\n",
    "    poi = poi.to_crs(\"EPSG:4326\")\n",
    "\n",
    "    # Get the name of the ID column\n",
    "    poi_id_column = 'id'  # Assuming the column name is 'id'\n",
    "\n",
    "    # Initialize OpenRouteService client\n",
    "    api_key = \"5b3ce3597851110001cf6248ec8fc0286b4a4fd1a90fc8108327d823\"  # Replace with your actual API key\n",
    "    client = Client(key=api_key)\n",
    "\n",
    "    # Define parameters for isochrone calculation\n",
    "    profile = 'cycling-regular'\n",
    "    range_type = 'time'\n",
    "    range_seconds = [900, 1800]  # 15 and 30 Minutes\n",
    "\n",
    "    # Create the directory if it doesn't exist\n",
    "    os.makedirs(output_path, exist_ok=True)\n",
    "\n",
    "    # Function to calculate isochrones with retry mechanism\n",
    "    def calculate_isochrones_with_retry(coordinate):\n",
    "        retries = 3  # Number of retries\n",
    "        for attempt in range(retries):\n",
    "            try:\n",
    "                isochrones = client.isochrones(locations=[coordinate], profile=profile, range_type=range_type, range=range_seconds, attributes=['total_pop'])\n",
    "                return isochrones\n",
    "            except ApiError as e:\n",
    "                if \"rate limit exceeded\" in str(e):\n",
    "                    print(f\"Rate limit exceeded. Retrying in 10 seconds...\")\n",
    "                    time.sleep(10)  # Retry after 10 seconds for rate limit errors\n",
    "                elif \"Unable to build an isochrone map\" in str(e):\n",
    "                    print(f\"Unable to build an isochrone map for POI. Skipping...\")\n",
    "                    return None\n",
    "                else:\n",
    "                    raise e  # Re-raise the exception if it's not related to rate limit exceeded\n",
    "        return None\n",
    "\n",
    "    # Iterate over poi and calculate isochrones\n",
    "    for idx, row in poi.iterrows():\n",
    "        # Get centroid coordinates of the poi\n",
    "        lon, lat = row['centroid'].x, row['centroid'].y\n",
    "        coordinate = (lon, lat)\n",
    "\n",
    "        # Calculate isochrones with retry mechanism\n",
    "        isochrones = calculate_isochrones_with_retry(coordinate)\n",
    "        if isochrones is None:\n",
    "            continue  # Skip the poi if isochrones cannot be calculated\n",
    "            \n",
    "        # Get the poi ID from the column\n",
    "        poi_id = row[poi_id_column]\n",
    "\n",
    "        # Add poi ID to each isochrone feature\n",
    "        for feature in isochrones['features']:\n",
    "            feature['properties']['poi_id'] = poi_id\n",
    "\n",
    "        # Save isochrones data to file\n",
    "        output_file_path = os.path.join(output_path, f'{output_filename}_{idx + 1}.geojson')\n",
    "        \n",
    "        with open(output_file_path, 'w') as output_file:\n",
    "            json.dump(isochrones, output_file)\n",
    "\n",
    "        print(print_statement.format(idx))\n",
    "\n",
    "        # Rate limit handling\n",
    "        time.sleep(3)  # Add a small delay to avoid rate limits and respect the rate limit\n",
    "\n",
    "    print(\"Isochrone calculation completed.\")\n"
   ]
  },
  {
   "cell_type": "markdown",
   "id": "6cde219f",
   "metadata": {},
   "source": [
    "## Green spaces"
   ]
  },
  {
   "cell_type": "markdown",
   "id": "0234f482",
   "metadata": {},
   "source": [
    "definitive wheelchair access"
   ]
  },
  {
   "cell_type": "code",
   "execution_count": null,
   "id": "30ffd6d2",
   "metadata": {},
   "outputs": [],
   "source": [
    "input_file = '../data/output/wheelchair_greenspace.geojson'\n",
    "output_path = '../data/output/barcelona_isochrones_bike_greenspaces_wheelchair/'\n",
    "output_filename = 'b_iso_bike_greenspaces_w'\n",
    "print_statement = \"Isochrones calculated for POI {}\"\n",
    "\n",
    "calculate_isochrones_bike(input_file, output_path, output_filename, print_statement, profile)"
   ]
  },
  {
   "cell_type": "markdown",
   "id": "1725c443",
   "metadata": {},
   "source": [
    "with ramps"
   ]
  },
  {
   "cell_type": "code",
   "execution_count": null,
   "id": "eab49717",
   "metadata": {},
   "outputs": [],
   "source": [
    "input_file = '../data/output/combined_greenspaces_wheelchair.geojson'\n",
    "output_path = '../data/output/barcelona_isochrones_bike_greenspaces/'\n",
    "output_filename = 'b_iso_bike_greenspaces'\n",
    "print_statement = \"Isochrones calculated for POI {}\"\n",
    "\n",
    "calculate_isochrones_bike(input_file, output_path, output_filename, print_statement, profile)"
   ]
  },
  {
   "cell_type": "markdown",
   "id": "7a5c3c30",
   "metadata": {},
   "source": [
    "## Public spaces"
   ]
  },
  {
   "cell_type": "markdown",
   "id": "26d7543f",
   "metadata": {},
   "source": [
    "definitive wheelchair access"
   ]
  },
  {
   "cell_type": "code",
   "execution_count": null,
   "id": "b51c6b4c",
   "metadata": {},
   "outputs": [],
   "source": [
    "input_file = '../data/output/wheelchair_publicspaces.geojson'\n",
    "output_path = '../data/output/barcelona_isochrones_bike_public_spaces_wheelchair/'\n",
    "output_filename = 'b_iso_bike_public_spaces_w'\n",
    "print_statement = \"Isochrones calculated for POI {}\"\n",
    "\n",
    "calculate_isochrones_bike(input_file, output_path, output_filename, print_statement, profile)"
   ]
  },
  {
   "cell_type": "markdown",
   "id": "d0b3c1d7",
   "metadata": {},
   "source": [
    "with nulls"
   ]
  },
  {
   "cell_type": "code",
   "execution_count": null,
   "id": "f7ed5969",
   "metadata": {},
   "outputs": [],
   "source": [
    "input_file = '../data/output/combined_public_spaces_wheelchair.geojson'\n",
    "output_path = '../data/output/barcelona_isochrones_bike_public_spaces/'\n",
    "output_filename = 'b_iso_bike_public_spaces'\n",
    "print_statement = \"Isochrones calculated for POI {}\"\n",
    "\n",
    "calculate_isochrones_bike(input_file, output_path, output_filename, print_statement, profile)"
   ]
  },
  {
   "cell_type": "markdown",
   "id": "ac549739",
   "metadata": {},
   "source": [
    "## Public building"
   ]
  },
  {
   "cell_type": "markdown",
   "id": "badf061f",
   "metadata": {},
   "source": [
    "definitive wheelchair access"
   ]
  },
  {
   "cell_type": "code",
   "execution_count": null,
   "id": "fa88f7b2",
   "metadata": {},
   "outputs": [],
   "source": [
    "input_file = '../data/output/wheelchair_public_building.geojson'\n",
    "output_path = '../data/output/barcelona_isochrones_bike_public_building_wheelchair/'\n",
    "output_filename = 'b_iso_bike_public_building_w'\n",
    "print_statement = \"Isochrones calculated for POI {}\"\n",
    "\n",
    "calculate_isochrones_bike(input_file, output_path, output_filename, print_statement, profile)"
   ]
  },
  {
   "cell_type": "markdown",
   "id": "4b93a9b6",
   "metadata": {},
   "source": [
    "with nulls"
   ]
  },
  {
   "cell_type": "code",
   "execution_count": null,
   "id": "a848fdc0",
   "metadata": {},
   "outputs": [],
   "source": [
    "input_file = '../data/output/combined_public_building_wheelchair.geojson'\n",
    "output_path = '../data/output/barcelona_isochrones_bike_public_building/'\n",
    "output_filename = 'b_iso_bike_public_building'\n",
    "print_statement = \"Isochrones calculated for POI {}\"\n",
    "\n",
    "calculate_isochrones_bike(input_file, output_path, output_filename, print_statement, profile)"
   ]
  },
  {
   "cell_type": "markdown",
   "id": "cd7aae43",
   "metadata": {},
   "source": [
    " "
   ]
  },
  {
   "cell_type": "markdown",
   "id": "8b588b34",
   "metadata": {},
   "source": [
    "# Walking Isochrones"
   ]
  },
  {
   "cell_type": "code",
   "execution_count": 3,
   "id": "83253761",
   "metadata": {},
   "outputs": [],
   "source": [
    "import json\n",
    "import time\n",
    "import os\n",
    "import geopandas as gpd\n",
    "from openrouteservice import Client\n",
    "from openrouteservice.exceptions import ApiError\n",
    "\n",
    "def calculate_isochrones_walk(input_file, output_path, output_filename, print_statement, profile):\n",
    "    # Load poi data with GeoPandas\n",
    "    poi = gpd.read_file(input_file)\n",
    "\n",
    "    # Calculate centroids for each polygon\n",
    "    poi['centroid'] = poi['geometry'].centroid\n",
    "\n",
    "    # Change CRS to EPSG:4326\n",
    "    poi = poi.to_crs(\"EPSG:4326\")\n",
    "    \n",
    "    # Get the name of the ID column\n",
    "    poi_id_column = 'id'  # Assuming the column name is 'id'\n",
    "\n",
    "    # Initialize OpenRouteService client\n",
    "    api_key = \"5b3ce3597851110001cf6248ec8fc0286b4a4fd1a90fc8108327d823\"  # Replace with your actual API key\n",
    "    client = Client(key=api_key)\n",
    "\n",
    "    # Define parameters for isochrone calculation\n",
    "    profile = 'foot-walking'\n",
    "    range_type = 'time'\n",
    "    range_seconds = [900, 1800]  # 15 and 30 Minutes\n",
    "\n",
    "    # Create the directory if it doesn't exist\n",
    "    os.makedirs(output_path, exist_ok=True)\n",
    "\n",
    "    # Function to calculate isochrones with retry mechanism\n",
    "    def calculate_isochrones_with_retry(coordinate):\n",
    "        retries = 3  # Number of retries\n",
    "        for attempt in range(retries):\n",
    "            try:\n",
    "                isochrones = client.isochrones(locations=[coordinate], profile=profile, range_type=range_type, range=range_seconds, attributes=['total_pop'])\n",
    "                return isochrones\n",
    "            except ApiError as e:\n",
    "                if \"rate limit exceeded\" in str(e):\n",
    "                    print(f\"Rate limit exceeded. Retrying in 10 seconds...\")\n",
    "                    time.sleep(10)  # Retry after 10 seconds for rate limit errors\n",
    "                elif \"Unable to build an isochrone map\" in str(e):\n",
    "                    print(f\"Unable to build an isochrone map for POI. Skipping...\")\n",
    "                    return None\n",
    "                else:\n",
    "                    raise e  # Re-raise the exception if it's not related to rate limit exceeded\n",
    "        return None\n",
    "\n",
    "    # Iterate over poi and calculate isochrones\n",
    "    for idx, row in poi.iterrows():\n",
    "        # Get centroid coordinates of the poi\n",
    "        lon, lat = row['centroid'].x, row['centroid'].y\n",
    "        coordinate = (lon, lat)\n",
    "\n",
    "        # Calculate isochrones with retry mechanism\n",
    "        isochrones = calculate_isochrones_with_retry(coordinate)\n",
    "        if isochrones is None:\n",
    "            continue  # Skip the poi if isochrones cannot be calculated\n",
    "            \n",
    "        # Get the poi ID from the column\n",
    "        poi_id = row[poi_id_column]            \n",
    "\n",
    "        # Add poi ID to each isochrone feature\n",
    "        for feature in isochrones['features']:\n",
    "            feature['properties']['poi_id'] = poi_id\n",
    "\n",
    "        # Save isochrones data to file\n",
    "        output_file_path = os.path.join(output_path, f'{output_filename}_{idx + 1}.geojson')\n",
    "        \n",
    "        with open(output_file_path, 'w') as output_file:\n",
    "            json.dump(isochrones, output_file)\n",
    "\n",
    "        print(print_statement.format(idx))\n",
    "\n",
    "        # Rate limit handling\n",
    "        time.sleep(3)  # Add a small delay to avoid rate limits and respect the rate limit\n",
    "\n",
    "    print(\"Isochrone calculation completed.\")\n"
   ]
  },
  {
   "cell_type": "markdown",
   "id": "e077058b",
   "metadata": {},
   "source": [
    "## Green spaces"
   ]
  },
  {
   "cell_type": "markdown",
   "id": "6270cfa9",
   "metadata": {},
   "source": [
    "definitive wheelchair"
   ]
  },
  {
   "cell_type": "code",
   "execution_count": null,
   "id": "5556d9b9",
   "metadata": {},
   "outputs": [],
   "source": [
    "input_file = '../data/output/wheelchair_greenspace.geojson'\n",
    "output_path = '../data/output/barcelona_isochrones_foot_greenspaces_wheelchair/'\n",
    "output_filename = 'b_iso_foot_green_w'\n",
    "print_statement = \"Isochrones calculated for POI {}\"\n",
    "\n",
    "calculate_isochrones_walk(input_file, output_path, output_filename, print_statement, profile)"
   ]
  },
  {
   "cell_type": "markdown",
   "id": "3798a992",
   "metadata": {},
   "source": [
    "with ramps"
   ]
  },
  {
   "cell_type": "code",
   "execution_count": null,
   "id": "8edabd8c",
   "metadata": {},
   "outputs": [],
   "source": [
    "input_file = '../data/output/combined_greenspaces_wheelchair.geojson'\n",
    "output_path = '../data/output/barcelona_isochrones_foot_greenspaces/'\n",
    "output_filename = 'b_iso_foot_green'\n",
    "print_statement = \"Isochrones calculated for POI {}\"\n",
    "\n",
    "calculate_isochrones_walk(input_file, output_path, output_filename, print_statement, profile)"
   ]
  },
  {
   "cell_type": "markdown",
   "id": "07043d17",
   "metadata": {},
   "source": [
    "## Public spaces"
   ]
  },
  {
   "cell_type": "markdown",
   "id": "53cb561c",
   "metadata": {},
   "source": [
    "definitive wheelchair"
   ]
  },
  {
   "cell_type": "code",
   "execution_count": null,
   "id": "83a49ee6",
   "metadata": {},
   "outputs": [],
   "source": [
    "input_file = '../data/output/wheelchair_publicspaces.geojson'\n",
    "output_path = '../data/output/barcelona_isochrones_foot_public_spaces_wheelchair/'\n",
    "output_filename = 'b_iso_foot_public_spaces_w'\n",
    "print_statement = \"Isochrones calculated for POI {}\"\n",
    "\n",
    "calculate_isochrones_walk(input_file, output_path, output_filename, print_statement, profile)"
   ]
  },
  {
   "cell_type": "markdown",
   "id": "c6a23541",
   "metadata": {},
   "source": [
    "with nulls"
   ]
  },
  {
   "cell_type": "code",
   "execution_count": null,
   "id": "c11f50e5",
   "metadata": {},
   "outputs": [],
   "source": [
    "input_file = '../data/output/combined_public_spaces_wheelchair.geojson'\n",
    "output_path = '../data/output/barcelona_isochrones_foot_public_spaces/'\n",
    "output_filename = 'b_iso_foot_public_spaces'\n",
    "print_statement = \"Isochrones calculated for POI {}\"\n",
    "\n",
    "calculate_isochrones_walk(input_file, output_path, output_filename, print_statement, profile)"
   ]
  },
  {
   "cell_type": "markdown",
   "id": "c62200b1",
   "metadata": {},
   "source": [
    "## Public buildings"
   ]
  },
  {
   "cell_type": "markdown",
   "id": "524f2861",
   "metadata": {},
   "source": [
    "definitive wheelchair"
   ]
  },
  {
   "cell_type": "code",
   "execution_count": null,
   "id": "96a583ed",
   "metadata": {},
   "outputs": [],
   "source": [
    "input_file = '../data/output/wheelchair_public_building.geojson'\n",
    "output_path = '../data/output/barcelona_isochrones_foot_public_building_wheelchair/'\n",
    "output_filename = 'b_iso_foot_public_building_w'\n",
    "print_statement = \"Isochrones calculated for POI {}\"\n",
    "\n",
    "calculate_isochrones_walk(input_file, output_path, output_filename, print_statement, profile)"
   ]
  },
  {
   "cell_type": "markdown",
   "id": "f0518ce9",
   "metadata": {},
   "source": [
    "with nulls"
   ]
  },
  {
   "cell_type": "code",
   "execution_count": null,
   "id": "1a3d2704",
   "metadata": {},
   "outputs": [],
   "source": [
    "input_file = '../data/output/combined_public_building_wheelchair.geojson'\n",
    "output_path = '../data/output/barcelona_isochrones_foot_public_building_wheelchair/'\n",
    "output_filename = 'b_iso_foot_public_building_w'\n",
    "print_statement = \"Isochrones calculated for POI {}\"\n",
    "\n",
    "calculate_isochrones_walk(input_file, output_path, output_filename, print_statement, profile)"
   ]
  }
 ],
 "metadata": {
  "kernelspec": {
   "display_name": "Python 3 (ipykernel)",
   "language": "python",
   "name": "python3"
  },
  "language_info": {
   "codemirror_mode": {
    "name": "ipython",
    "version": 3
   },
   "file_extension": ".py",
   "mimetype": "text/x-python",
   "name": "python",
   "nbconvert_exporter": "python",
   "pygments_lexer": "ipython3",
   "version": "3.11.8"
  }
 },
 "nbformat": 4,
 "nbformat_minor": 5
}
