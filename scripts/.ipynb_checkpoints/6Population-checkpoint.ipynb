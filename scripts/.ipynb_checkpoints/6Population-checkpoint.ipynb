{
 "cells": [
  {
   "cell_type": "markdown",
   "id": "8d458c32",
   "metadata": {},
   "source": [
    "# Population"
   ]
  },
  {
   "cell_type": "code",
   "execution_count": 36,
   "id": "9fce16ce",
   "metadata": {},
   "outputs": [],
   "source": [
    "import geopandas as gpd\n",
    "import rasterio\n",
    "from rasterstats import zonal_stats\n",
    "\n",
    "def calculate_pop(isochrone_file):\n",
    "    # Define the population raster path\n",
    "    pop_raster_path = '../data/input/esp_ppp_2020_UNadj.tif'\n",
    "\n",
    "    # Load dissolved isochrones\n",
    "    isochrone = gpd.read_file(isochrone_file)\n",
    "\n",
    "    # Reproject vector data to EPSG:4326 (WGS 84)\n",
    "    isochrone = isochrone.to_crs(epsg=4326)\n",
    "\n",
    "    # Open raster file\n",
    "    with rasterio.open(pop_raster_path) as src:\n",
    "        # Get affine transform\n",
    "        transform = src.transform\n",
    "\n",
    "    # Determine the type of isochrone (15 or 30 minutes, bike or walk, might or definitive)\n",
    "    isochrone_type = \"\"\n",
    "    if 'barcelona' in isochrone_file:\n",
    "        where = \"In Barcelona\"\n",
    "    elif 'munich' in isochrone_file:\n",
    "        where = \"In Munich\"\n",
    "\n",
    "    if '15' in isochrone_file:\n",
    "        isochrone_type += \"15 min, \"\n",
    "    elif '30' in isochrone_file:\n",
    "        isochrone_type += \"30 min\"\n",
    "        \n",
    "    if 'might' in isochrone_file:\n",
    "        isochrone_type += \"might be wheelchair accessible, \"\n",
    "    elif 'definitive' in isochrone_file:\n",
    "        isochrone_type += \"definitivly wheelchair accessible, \"\n",
    "        \n",
    "    if 'greenspaces' in isochrone_file:\n",
    "        isochrone_type += \"green space \"\n",
    "    elif 'publicbuilding' in isochrone_file:\n",
    "        isochrone_type += \"public buildings \"\n",
    "    elif 'publicspace' in isochrone_file:\n",
    "        isochrone_type += \"public space \"\n",
    "     \n",
    "    if 'bike' in isochrone_file:\n",
    "        isochrone_type += \"biking\"\n",
    "    elif 'walk' in isochrone_file:\n",
    "        isochrone_type += \"walking\"\n",
    "\n",
    "    # Calculate population within the isochrone\n",
    "    stats = zonal_stats(\n",
    "        vectors=isochrone,\n",
    "        raster=pop_raster_path,\n",
    "        affine=transform,\n",
    "        stats='sum'\n",
    "    )\n",
    "\n",
    "    # Extract population sum\n",
    "    population_within_isochrone = stats[0]['sum']\n",
    "    \n",
    "    # Print message based on isochrone type\n",
    "    print(f\"{where} {population_within_isochrone:,.0f} people are living within the {isochrone_type} isochrone.\")"
   ]
  },
  {
   "cell_type": "markdown",
   "id": "d387ab04",
   "metadata": {},
   "source": [
    "## Greenspace\n",
    "### Walking"
   ]
  },
  {
   "cell_type": "code",
   "execution_count": 37,
   "id": "1cba4baf",
   "metadata": {},
   "outputs": [
    {
     "name": "stdout",
     "output_type": "stream",
     "text": [
      "In Barcelona 954,612 people are living within the 15 min, definitivly wheelchair accessible, green space walking isochrone.\n"
     ]
    }
   ],
   "source": [
    "isochrone_file = '../data/output/merged/barcelona/walk/definitive/greenspaces/15.geojson'\n",
    "calculate_pop(isochrone_file)"
   ]
  },
  {
   "cell_type": "code",
   "execution_count": null,
   "id": "12d855e3",
   "metadata": {},
   "outputs": [],
   "source": [
    "isochrone_file = '../data/output/merged/barcelona/walk/definitive/greenspaces/30.geojson'\n",
    "calculate_pop(isochrone_file)"
   ]
  },
  {
   "cell_type": "code",
   "execution_count": null,
   "id": "cce079d5",
   "metadata": {},
   "outputs": [],
   "source": [
    "isochrone_file = '../data/output/merged/barcelona/walk/might/greenspaces/15.geojson'\n",
    "calculate_pop(isochrone_file)"
   ]
  },
  {
   "cell_type": "code",
   "execution_count": null,
   "id": "c67e7d14",
   "metadata": {},
   "outputs": [],
   "source": [
    "isochrone_file = '../data/output/merged/barcelona/walk/might/greenspaces/30.geojson'\n",
    "calculate_pop(isochrone_file)"
   ]
  },
  {
   "cell_type": "markdown",
   "id": "2ca0fbbe",
   "metadata": {},
   "source": [
    "### Bike"
   ]
  },
  {
   "cell_type": "code",
   "execution_count": null,
   "id": "53d415f2",
   "metadata": {},
   "outputs": [],
   "source": [
    "isochrone_file = '../data/output/merged/barcelona/bike/definitive/greenspaces/15.geojson'\n",
    "calculate_pop(isochrone_file)"
   ]
  },
  {
   "cell_type": "code",
   "execution_count": null,
   "id": "83085a7e",
   "metadata": {},
   "outputs": [],
   "source": [
    "isochrone_file = '../data/output/merged/barcelona/bike/definitive/greenspaces/30.geojson'\n",
    "calculate_pop(isochrone_file)"
   ]
  },
  {
   "cell_type": "code",
   "execution_count": null,
   "id": "2cebef2c",
   "metadata": {},
   "outputs": [],
   "source": [
    "isochrone_file = '../data/output/merged/barcelona/bike/might/greenspaces/15.geojson'\n",
    "calculate_pop(isochrone_file)"
   ]
  },
  {
   "cell_type": "code",
   "execution_count": null,
   "id": "d40e41b9",
   "metadata": {},
   "outputs": [],
   "source": [
    "isochrone_file = '../data/output/merged/barcelona/bike/might/greenspaces/30.geojson'\n",
    "calculate_pop(isochrone_file)"
   ]
  },
  {
   "cell_type": "markdown",
   "id": "b3b99ae3",
   "metadata": {},
   "source": [
    "## Public space\n",
    "### Walking"
   ]
  },
  {
   "cell_type": "code",
   "execution_count": null,
   "id": "ca846799",
   "metadata": {},
   "outputs": [],
   "source": [
    "isochrone_file = '../data/output/merged/barcelona/walk/definitive/publicspace/15.geojson'\n",
    "calculate_pop(isochrone_file)"
   ]
  },
  {
   "cell_type": "code",
   "execution_count": null,
   "id": "9359983f",
   "metadata": {},
   "outputs": [],
   "source": [
    "isochrone_file = '../data/output/merged/barcelona/walk/definitive/publicspace/30.geojson'\n",
    "calculate_pop(isochrone_file)"
   ]
  },
  {
   "cell_type": "code",
   "execution_count": null,
   "id": "26a4624a",
   "metadata": {},
   "outputs": [],
   "source": [
    "isochrone_file = '../data/output/merged/barcelona/walk/might/publicspace/15.geojson'\n",
    "calculate_pop(isochrone_file)"
   ]
  },
  {
   "cell_type": "code",
   "execution_count": null,
   "id": "7cb65963",
   "metadata": {},
   "outputs": [],
   "source": [
    "isochrone_file = '../data/output/merged/barcelona/walk/might/publicspace/30.geojson'\n",
    "calculate_pop(isochrone_file)"
   ]
  },
  {
   "cell_type": "markdown",
   "id": "f8e85ea3",
   "metadata": {},
   "source": [
    "### Bike"
   ]
  },
  {
   "cell_type": "code",
   "execution_count": null,
   "id": "5e48e3c8",
   "metadata": {},
   "outputs": [],
   "source": [
    "isochrone_file = '../data/output/merged/barcelona/bike/definitive/publicspace/15.geojson'\n",
    "calculate_pop(isochrone_file)"
   ]
  },
  {
   "cell_type": "code",
   "execution_count": null,
   "id": "fa861043",
   "metadata": {},
   "outputs": [],
   "source": [
    "isochrone_file = '../data/output/merged/barcelona/bike/definitive/publicspace/30.geojson'\n",
    "calculate_pop(isochrone_file)"
   ]
  },
  {
   "cell_type": "code",
   "execution_count": null,
   "id": "7004c25e",
   "metadata": {},
   "outputs": [],
   "source": [
    "isochrone_file = '../data/output/merged/barcelona/bike/might/publicspace/15.geojson'\n",
    "calculate_pop(isochrone_file)"
   ]
  },
  {
   "cell_type": "code",
   "execution_count": null,
   "id": "683c65f3",
   "metadata": {},
   "outputs": [],
   "source": [
    "isochrone_file = '../data/output/merged/barcelona/bike/might/publicspace/30.geojson'\n",
    "calculate_pop(isochrone_file)"
   ]
  },
  {
   "cell_type": "markdown",
   "id": "ac312e24",
   "metadata": {},
   "source": [
    "## Public Building\n",
    "### Walking"
   ]
  },
  {
   "cell_type": "code",
   "execution_count": null,
   "id": "cec8f5db",
   "metadata": {},
   "outputs": [],
   "source": [
    "isochrone_file = '../data/output/merged/barcelona/walk/definitive/publicbuilding/15.geojson'\n",
    "calculate_pop(isochrone_file)"
   ]
  },
  {
   "cell_type": "code",
   "execution_count": null,
   "id": "9e4e1af8",
   "metadata": {},
   "outputs": [],
   "source": [
    "isochrone_file = '../data/output/merged/barcelona/walk/definitive/publicbuilding/30.geojson'\n",
    "calculate_pop(isochrone_file)"
   ]
  },
  {
   "cell_type": "code",
   "execution_count": null,
   "id": "648adf33",
   "metadata": {},
   "outputs": [],
   "source": [
    "isochrone_file = '../data/output/merged/barcelona/walk/might/publicbuilding/15.geojson'\n",
    "calculate_pop(isochrone_file)"
   ]
  },
  {
   "cell_type": "code",
   "execution_count": null,
   "id": "ec66621b",
   "metadata": {},
   "outputs": [],
   "source": [
    "isochrone_file = '../data/output/merged/barcelona/walk/might/publicbuilding/30.geojson'\n",
    "calculate_pop(isochrone_file)"
   ]
  },
  {
   "cell_type": "markdown",
   "id": "1804ead2",
   "metadata": {},
   "source": [
    "### Bike"
   ]
  },
  {
   "cell_type": "code",
   "execution_count": null,
   "id": "30b2468f",
   "metadata": {},
   "outputs": [],
   "source": [
    "isochrone_file = '../data/output/merged/barcelona/bike/definitive/publicbuilding/15.geojson'\n",
    "calculate_pop(isochrone_file)"
   ]
  },
  {
   "cell_type": "code",
   "execution_count": null,
   "id": "6adb782a",
   "metadata": {},
   "outputs": [],
   "source": [
    "isochrone_file = '../data/output/merged/barcelona/bike/definitive/publicbuilding/30.geojson'\n",
    "calculate_pop(isochrone_file)"
   ]
  },
  {
   "cell_type": "code",
   "execution_count": null,
   "id": "6bf751e7",
   "metadata": {},
   "outputs": [],
   "source": [
    "isochrone_file = '../data/output/merged/barcelona/bike/might/publicbuilding/15.geojson'\n",
    "calculate_pop(isochrone_file)"
   ]
  },
  {
   "cell_type": "code",
   "execution_count": null,
   "id": "b00ea0bc",
   "metadata": {},
   "outputs": [],
   "source": [
    "isochrone_file = '../data/output/merged/barcelona/bike/might/publicbuilding/30.geojson'\n",
    "calculate_pop(isochrone_file)"
   ]
  }
 ],
 "metadata": {
  "kernelspec": {
   "display_name": "Python 3 (ipykernel)",
   "language": "python",
   "name": "python3"
  },
  "language_info": {
   "codemirror_mode": {
    "name": "ipython",
    "version": 3
   },
   "file_extension": ".py",
   "mimetype": "text/x-python",
   "name": "python",
   "nbconvert_exporter": "python",
   "pygments_lexer": "ipython3",
   "version": "3.11.8"
  }
 },
 "nbformat": 4,
 "nbformat_minor": 5
}
