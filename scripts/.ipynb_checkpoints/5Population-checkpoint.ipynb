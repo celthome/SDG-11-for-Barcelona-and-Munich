{
 "cells": [
  {
   "cell_type": "markdown",
   "id": "8d458c32",
   "metadata": {},
   "source": [
    "# Population"
   ]
  },
  {
   "cell_type": "code",
   "execution_count": 1,
   "id": "44524bc1",
   "metadata": {},
   "outputs": [],
   "source": [
    "import geopandas as gpd\n",
    "import rasterio\n",
    "from rasterstats import zonal_stats\n",
    "\n",
    "def calculate_pop(pop_raster_path, isochrone_file):\n",
    "    # Load dissolved isochrones\n",
    "    isochrone = gpd.read_file(isochrone_file)\n",
    "\n",
    "    # Reproject vector data to EPSG:4326 (WGS 84)\n",
    "    isochrone = isochrone.to_crs(epsg=4326)\n",
    "\n",
    "    # Open raster file\n",
    "    with rasterio.open(pop_raster_path) as src:\n",
    "        # Get affine transform\n",
    "        transform = src.transform\n",
    "\n",
    "    # Determine the type of isochrone (15 or 30 minutes, bike or walk, might or definitive)\n",
    "    isochrone_type = \"\"\n",
    "    if 'barcelona' in isochrone_file:\n",
    "        where = \"In Barcelona\"\n",
    "    elif 'munich' in isochrone_file:\n",
    "        where = \"In Munich\"\n",
    "\n",
    "    if '15' in isochrone_file:\n",
    "        isochrone_type += \"15 min, \"\n",
    "    elif '30' in isochrone_file:\n",
    "        isochrone_type += \"30 min\"\n",
    "        \n",
    "    if 'might' in isochrone_file:\n",
    "        isochrone_type += \"might be wheelchair accessible, \"\n",
    "    elif 'definitive' in isochrone_file:\n",
    "        isochrone_type += \"definitively wheelchair accessible, \"\n",
    "        \n",
    "    if 'greenspaces' in isochrone_file:\n",
    "        isochrone_type += \"green space \"\n",
    "    elif 'publicbuilding' in isochrone_file:\n",
    "        isochrone_type += \"public buildings \"\n",
    "    elif 'publicspace' in isochrone_file:\n",
    "        isochrone_type += \"public space \"\n",
    "     \n",
    "    if 'wheelchair' in isochrone_file:\n",
    "        isochrone_type += \"wheelchair\"\n",
    "    elif 'walk' in isochrone_file:\n",
    "        isochrone_type += \"walking\"\n",
    "\n",
    "    # Calculate population within the isochrone\n",
    "    stats = zonal_stats(\n",
    "        vectors=isochrone,\n",
    "        raster=pop_raster_path,\n",
    "        affine=transform,\n",
    "        stats='sum'\n",
    "    )\n",
    "\n",
    "    # Extract population sum\n",
    "    population_within_isochrone = stats[0]['sum']\n",
    "    \n",
    "    # Print message based on isochrone type\n",
    "    print(f\"{where} {population_within_isochrone:,.0f} people are living within the {isochrone_type} isochrone.\")"
   ]
  },
  {
   "cell_type": "markdown",
   "id": "d387ab04",
   "metadata": {},
   "source": [
    "## Greenspace\n",
    "### Walking"
   ]
  },
  {
   "cell_type": "code",
   "execution_count": 3,
   "id": "1cba4baf",
   "metadata": {},
   "outputs": [
    {
     "name": "stdout",
     "output_type": "stream",
     "text": [
      "In Barcelona 954,612 people are living within the 15 min, definitively wheelchair accessible, green space walking isochrone.\n",
      "In Barcelona 1,499,874 people are living within the 30 mindefinitively wheelchair accessible, green space walking isochrone.\n"
     ]
    }
   ],
   "source": [
    "pop_raster_path = '../data/input/esp_ppp_2020_UNadj.tif'\n",
    "isochrone_file = '../data/output/barcelona/merged/walk/definitive/greenspaces/15.geojson'\n",
    "calculate_pop(pop_raster_path, isochrone_file)\n",
    "\n",
    "isochrone_file = '../data/output/barcelona/merged/walk/definitive/greenspaces/30.geojson'\n",
    "calculate_pop(pop_raster_path, isochrone_file)"
   ]
  },
  {
   "cell_type": "code",
   "execution_count": 4,
   "id": "12d855e3",
   "metadata": {},
   "outputs": [
    {
     "name": "stdout",
     "output_type": "stream",
     "text": [
      "In Barcelona 1,237,561 people are living within the 15 min, might be wheelchair accessible, green space walking isochrone.\n",
      "In Barcelona 1,601,321 people are living within the 30 minmight be wheelchair accessible, green space walking isochrone.\n"
     ]
    }
   ],
   "source": [
    "pop_raster_path = '../data/input/esp_ppp_2020_UNadj.tif'\n",
    "isochrone_file = '../data/output/barcelona/merged/walk/might/greenspaces/15.geojson'\n",
    "calculate_pop(pop_raster_path, isochrone_file)\n",
    "\n",
    "isochrone_file = '../data/output/barcelona/merged/walk/might/greenspaces/30.geojson'\n",
    "calculate_pop(pop_raster_path, isochrone_file)"
   ]
  },
  {
   "cell_type": "code",
   "execution_count": 5,
   "id": "cce079d5",
   "metadata": {},
   "outputs": [
    {
     "name": "stdout",
     "output_type": "stream",
     "text": [
      "In Munich 489,461 people are living within the 15 min, definitively wheelchair accessible, green space walking isochrone.\n",
      "In Munich 971,751 people are living within the 30 mindefinitively wheelchair accessible, green space walking isochrone.\n"
     ]
    }
   ],
   "source": [
    "pop_raster_path = '../data/input/deu_ppp_2020_constrained.tif'\n",
    "isochrone_file = '../data/output/munich/merged/walk/definitive/greenspaces/15.geojson'\n",
    "calculate_pop(pop_raster_path, isochrone_file)\n",
    "\n",
    "isochrone_file = '../data/output/munich/merged/walk/definitive/greenspaces/30.geojson'\n",
    "calculate_pop(pop_raster_path, isochrone_file)"
   ]
  },
  {
   "cell_type": "code",
   "execution_count": 6,
   "id": "c67e7d14",
   "metadata": {},
   "outputs": [
    {
     "name": "stdout",
     "output_type": "stream",
     "text": [
      "In Munich 1,006,758 people are living within the 15 min, might be wheelchair accessible, green space walking isochrone.\n",
      "In Munich 1,406,778 people are living within the 30 minmight be wheelchair accessible, green space walking isochrone.\n"
     ]
    }
   ],
   "source": [
    "pop_raster_path = '../data/input/deu_ppp_2020_constrained.tif'\n",
    "isochrone_file = '../data/output/munich/merged/walk/might/greenspaces/15.geojson'\n",
    "calculate_pop(pop_raster_path, isochrone_file)\n",
    "\n",
    "isochrone_file = '../data/output/munich/merged/walk/might/greenspaces/30.geojson'\n",
    "calculate_pop(pop_raster_path, isochrone_file)"
   ]
  },
  {
   "cell_type": "markdown",
   "id": "2ca0fbbe",
   "metadata": {},
   "source": [
    "### Bike"
   ]
  },
  {
   "cell_type": "code",
   "execution_count": 7,
   "id": "f0451f57",
   "metadata": {},
   "outputs": [
    {
     "name": "stdout",
     "output_type": "stream",
     "text": [
      "In Barcelona 2,254,599 people are living within the 15 min, definitively wheelchair accessible, green space biking isochrone.\n",
      "In Barcelona 2,811,148 people are living within the 30 mindefinitively wheelchair accessible, green space biking isochrone.\n"
     ]
    }
   ],
   "source": [
    "pop_raster_path = '../data/input/esp_ppp_2020_UNadj.tif'\n",
    "isochrone_file = '../data/output/barcelona/merged/bike/definitive/greenspaces/15.geojson'\n",
    "calculate_pop(pop_raster_path, isochrone_file)\n",
    "\n",
    "isochrone_file = '../data/output/barcelona/merged/bike/definitive/greenspaces/30.geojson'\n",
    "calculate_pop(pop_raster_path,isochrone_file)"
   ]
  },
  {
   "cell_type": "code",
   "execution_count": 8,
   "id": "53d415f2",
   "metadata": {},
   "outputs": [
    {
     "name": "stdout",
     "output_type": "stream",
     "text": [
      "In Barcelona 1,975,297 people are living within the 15 min, might be wheelchair accessible, green space biking isochrone.\n",
      "In Barcelona 2,526,062 people are living within the 30 minmight be wheelchair accessible, green space biking isochrone.\n"
     ]
    }
   ],
   "source": [
    "pop_raster_path = '../data/input/esp_ppp_2020_UNadj.tif'\n",
    "isochrone_file = '../data/output/barcelona/merged/bike/might/greenspaces/15.geojson'\n",
    "calculate_pop(pop_raster_path,isochrone_file)\n",
    "\n",
    "isochrone_file = '../data/output/barcelona/merged/bike/might/greenspaces/30.geojson'\n",
    "calculate_pop(pop_raster_path,isochrone_file)"
   ]
  },
  {
   "cell_type": "code",
   "execution_count": 9,
   "id": "83085a7e",
   "metadata": {},
   "outputs": [
    {
     "name": "stdout",
     "output_type": "stream",
     "text": [
      "In Munich 1,310,478 people are living within the 15 min, definitively wheelchair accessible, green space biking isochrone.\n",
      "In Munich 1,785,232 people are living within the 30 mindefinitively wheelchair accessible, green space biking isochrone.\n"
     ]
    }
   ],
   "source": [
    "pop_raster_path = '../data/input/deu_ppp_2020_constrained.tif'\n",
    "isochrone_file = '../data/output/munich/merged/bike/definitive/greenspaces/15.geojson'\n",
    "calculate_pop(pop_raster_path,isochrone_file)\n",
    "\n",
    "isochrone_file = '../data/output/munich/merged/bike/definitive/greenspaces/30.geojson'\n",
    "calculate_pop(pop_raster_path,isochrone_file)"
   ]
  },
  {
   "cell_type": "code",
   "execution_count": 10,
   "id": "2cebef2c",
   "metadata": {},
   "outputs": [
    {
     "name": "stdout",
     "output_type": "stream",
     "text": [
      "In Munich 1,612,268 people are living within the 15 min, might be wheelchair accessible, green space biking isochrone.\n",
      "In Munich 1,928,383 people are living within the 30 minmight be wheelchair accessible, green space biking isochrone.\n"
     ]
    }
   ],
   "source": [
    "pop_raster_path = '../data/input/deu_ppp_2020_constrained.tif'\n",
    "isochrone_file = '../data/output/munich/merged/bike/might/greenspaces/15.geojson'\n",
    "calculate_pop(pop_raster_path,isochrone_file)\n",
    "\n",
    "isochrone_file = '../data/output/munich/merged/bike/might/greenspaces/30.geojson'\n",
    "calculate_pop(pop_raster_path,isochrone_file)"
   ]
  },
  {
   "cell_type": "markdown",
   "id": "b3b99ae3",
   "metadata": {},
   "source": [
    "## Public space\n",
    "### Walking"
   ]
  },
  {
   "cell_type": "code",
   "execution_count": 11,
   "id": "ca846799",
   "metadata": {},
   "outputs": [
    {
     "name": "stdout",
     "output_type": "stream",
     "text": [
      "In Barcelona 1,251,084 people are living within the 15 min, definitively wheelchair accessible, public space walking isochrone.\n",
      "In Barcelona 1,651,125 people are living within the 30 mindefinitively wheelchair accessible, public space walking isochrone.\n"
     ]
    }
   ],
   "source": [
    "pop_raster_path = '../data/input/esp_ppp_2020_UNadj.tif'\n",
    "isochrone_file = '../data/output/barcelona/merged/walk/definitive/publicspace/15.geojson'\n",
    "calculate_pop(pop_raster_path,isochrone_file)\n",
    "\n",
    "isochrone_file = '../data/output/barcelona/merged/walk/definitive/publicspace/30.geojson'\n",
    "calculate_pop(pop_raster_path,isochrone_file)"
   ]
  },
  {
   "cell_type": "code",
   "execution_count": 12,
   "id": "9359983f",
   "metadata": {},
   "outputs": [
    {
     "name": "stdout",
     "output_type": "stream",
     "text": [
      "In Barcelona 1,629,987 people are living within the 15 min, might be wheelchair accessible, public space walking isochrone.\n",
      "In Barcelona 1,922,168 people are living within the 30 minmight be wheelchair accessible, public space walking isochrone.\n"
     ]
    }
   ],
   "source": [
    "pop_raster_path = '../data/input/esp_ppp_2020_UNadj.tif'\n",
    "isochrone_file = '../data/output/barcelona/merged/walk/might/publicspace/15.geojson'\n",
    "calculate_pop(pop_raster_path,isochrone_file)\n",
    "\n",
    "isochrone_file = '../data/output/barcelona/merged/walk/might/publicspace/30.geojson'\n",
    "calculate_pop(pop_raster_path,isochrone_file)"
   ]
  },
  {
   "cell_type": "code",
   "execution_count": 13,
   "id": "26a4624a",
   "metadata": {},
   "outputs": [
    {
     "name": "stdout",
     "output_type": "stream",
     "text": [
      "In Munich 1,370,284 people are living within the 15 min, definitively wheelchair accessible, public space walking isochrone.\n",
      "In Munich 1,576,897 people are living within the 30 mindefinitively wheelchair accessible, public space walking isochrone.\n"
     ]
    }
   ],
   "source": [
    "pop_raster_path = '../data/input/deu_ppp_2020_constrained.tif'\n",
    "isochrone_file = '../data/output/munich/merged/walk/definitive/publicspace/15.geojson'\n",
    "calculate_pop(pop_raster_path,isochrone_file)\n",
    "\n",
    "isochrone_file = '../data/output/munich/merged/walk/definitive/publicspace/30.geojson'\n",
    "calculate_pop(pop_raster_path,isochrone_file)"
   ]
  },
  {
   "cell_type": "code",
   "execution_count": 14,
   "id": "7cb65963",
   "metadata": {},
   "outputs": [
    {
     "name": "stdout",
     "output_type": "stream",
     "text": [
      "In Munich 1,563,060 people are living within the 15 min, might be wheelchair accessible, public space walking isochrone.\n",
      "In Munich 1,672,755 people are living within the 30 minmight be wheelchair accessible, public space walking isochrone.\n"
     ]
    }
   ],
   "source": [
    "pop_raster_path = '../data/input/deu_ppp_2020_constrained.tif'\n",
    "isochrone_file = '../data/output/munich/merged/walk/might/publicspace/15.geojson'\n",
    "calculate_pop(pop_raster_path,isochrone_file)\n",
    "\n",
    "isochrone_file = '../data/output/munich/merged/walk/might/publicspace/30.geojson'\n",
    "calculate_pop(pop_raster_path,isochrone_file)"
   ]
  },
  {
   "cell_type": "markdown",
   "id": "f8e85ea3",
   "metadata": {},
   "source": [
    "### Bike"
   ]
  },
  {
   "cell_type": "code",
   "execution_count": 15,
   "id": "5e48e3c8",
   "metadata": {},
   "outputs": [
    {
     "name": "stdout",
     "output_type": "stream",
     "text": [
      "In Barcelona 2,045,993 people are living within the 15 min, definitively wheelchair accessible, public space biking isochrone.\n",
      "In Barcelona 2,563,346 people are living within the 30 mindefinitively wheelchair accessible, public space biking isochrone.\n"
     ]
    }
   ],
   "source": [
    "pop_raster_path = '../data/input/esp_ppp_2020_UNadj.tif'\n",
    "isochrone_file = '../data/output/barcelona/merged/bike/definitive/publicspace/15.geojson'\n",
    "calculate_pop(pop_raster_path,isochrone_file)\n",
    "\n",
    "isochrone_file = '../data/output/barcelona/merged/bike/definitive/publicspace/30.geojson'\n",
    "calculate_pop(pop_raster_path,isochrone_file)"
   ]
  },
  {
   "cell_type": "code",
   "execution_count": 16,
   "id": "fa861043",
   "metadata": {},
   "outputs": [
    {
     "name": "stdout",
     "output_type": "stream",
     "text": [
      "In Barcelona 1,629,987 people are living within the 15 min, might be wheelchair accessible, public space biking isochrone.\n",
      "In Barcelona 1,922,168 people are living within the 30 minmight be wheelchair accessible, public space biking isochrone.\n"
     ]
    }
   ],
   "source": [
    "pop_raster_path = '../data/input/esp_ppp_2020_UNadj.tif'\n",
    "isochrone_file = '../data/output/barcelona/merged/bike/might/publicspace/15.geojson'\n",
    "calculate_pop(pop_raster_path,isochrone_file)\n",
    "\n",
    "isochrone_file = '../data/output/barcelona/merged/bike/might/publicspace/30.geojson'\n",
    "calculate_pop(pop_raster_path,isochrone_file)"
   ]
  },
  {
   "cell_type": "code",
   "execution_count": 17,
   "id": "7004c25e",
   "metadata": {},
   "outputs": [
    {
     "name": "stdout",
     "output_type": "stream",
     "text": [
      "In Munich 1,727,344 people are living within the 15 min, definitively wheelchair accessible, public space biking isochrone.\n",
      "In Munich 2,019,981 people are living within the 30 mindefinitively wheelchair accessible, public space biking isochrone.\n"
     ]
    }
   ],
   "source": [
    "pop_raster_path = '../data/input/deu_ppp_2020_constrained.tif'\n",
    "isochrone_file = '../data/output/munich/merged/bike/definitive/publicspace/15.geojson'\n",
    "calculate_pop(pop_raster_path,isochrone_file)\n",
    "\n",
    "isochrone_file = '../data/output/munich/merged/bike/definitive/publicspace/30.geojson'\n",
    "calculate_pop(pop_raster_path,isochrone_file)"
   ]
  },
  {
   "cell_type": "code",
   "execution_count": 18,
   "id": "683c65f3",
   "metadata": {},
   "outputs": [
    {
     "name": "stdout",
     "output_type": "stream",
     "text": [
      "In Munich 1,563,060 people are living within the 15 min, might be wheelchair accessible, public space biking isochrone.\n",
      "In Munich 1,672,755 people are living within the 30 minmight be wheelchair accessible, public space biking isochrone.\n"
     ]
    }
   ],
   "source": [
    "pop_raster_path = '../data/input/deu_ppp_2020_constrained.tif'\n",
    "isochrone_file = '../data/output/munich/merged/bike/might/publicspace/15.geojson'\n",
    "calculate_pop(pop_raster_path,isochrone_file)\n",
    "\n",
    "isochrone_file = '../data/output/munich/merged/bike/might/publicspace/30.geojson'\n",
    "calculate_pop(pop_raster_path,isochrone_file)"
   ]
  },
  {
   "cell_type": "markdown",
   "id": "ac312e24",
   "metadata": {},
   "source": [
    "## Public Building\n",
    "### Walking"
   ]
  },
  {
   "cell_type": "code",
   "execution_count": 19,
   "id": "cec8f5db",
   "metadata": {},
   "outputs": [
    {
     "name": "stdout",
     "output_type": "stream",
     "text": [
      "In Barcelona 1,714,178 people are living within the 15 min, definitively wheelchair accessible, public buildings walking isochrone.\n",
      "In Barcelona 2,023,305 people are living within the 30 mindefinitively wheelchair accessible, public buildings walking isochrone.\n"
     ]
    }
   ],
   "source": [
    "pop_raster_path = '../data/input/esp_ppp_2020_UNadj.tif'\n",
    "isochrone_file = '../data/output/barcelona/merged/walk/definitive/publicbuilding/15.geojson'\n",
    "calculate_pop(pop_raster_path,isochrone_file)\n",
    "\n",
    "isochrone_file = '../data/output/barcelona/merged/walk/definitive/publicbuilding/30.geojson'\n",
    "calculate_pop(pop_raster_path,isochrone_file)"
   ]
  },
  {
   "cell_type": "code",
   "execution_count": 20,
   "id": "9e4e1af8",
   "metadata": {},
   "outputs": [
    {
     "name": "stdout",
     "output_type": "stream",
     "text": [
      "In Barcelona 1,714,178 people are living within the 15 min, might be wheelchair accessible, public buildings walking isochrone.\n",
      "In Barcelona 2,023,305 people are living within the 30 minmight be wheelchair accessible, public buildings walking isochrone.\n"
     ]
    }
   ],
   "source": [
    "pop_raster_path = '../data/input/esp_ppp_2020_UNadj.tif'\n",
    "isochrone_file = '../data/output/barcelona/merged/walk/might/publicbuilding/15.geojson'\n",
    "calculate_pop(pop_raster_path,isochrone_file)\n",
    "\n",
    "isochrone_file = '../data/output/barcelona/merged/walk/might/publicbuilding/30.geojson'\n",
    "calculate_pop(pop_raster_path,isochrone_file)"
   ]
  },
  {
   "cell_type": "code",
   "execution_count": 21,
   "id": "648adf33",
   "metadata": {},
   "outputs": [
    {
     "name": "stdout",
     "output_type": "stream",
     "text": [
      "In Munich 1,098,097 people are living within the 15 min, definitively wheelchair accessible, public buildings walking isochrone.\n",
      "In Munich 1,435,780 people are living within the 30 mindefinitively wheelchair accessible, public buildings walking isochrone.\n"
     ]
    }
   ],
   "source": [
    "pop_raster_path = '../data/input/deu_ppp_2020_constrained.tif'\n",
    "isochrone_file = '../data/output/munich/merged/walk/definitive/publicbuilding/15.geojson'\n",
    "calculate_pop(pop_raster_path,isochrone_file)\n",
    "\n",
    "isochrone_file = '../data/output/munich/merged/walk/definitive/publicbuilding/30.geojson'\n",
    "calculate_pop(pop_raster_path,isochrone_file)"
   ]
  },
  {
   "cell_type": "code",
   "execution_count": 22,
   "id": "ec66621b",
   "metadata": {},
   "outputs": [
    {
     "name": "stdout",
     "output_type": "stream",
     "text": [
      "In Munich 1,098,097 people are living within the 15 min, might be wheelchair accessible, public buildings walking isochrone.\n",
      "In Munich 1,435,780 people are living within the 30 minmight be wheelchair accessible, public buildings walking isochrone.\n"
     ]
    }
   ],
   "source": [
    "pop_raster_path = '../data/input/deu_ppp_2020_constrained.tif'\n",
    "isochrone_file = '../data/output/munich/merged/walk/might/publicbuilding/15.geojson'\n",
    "calculate_pop(pop_raster_path,isochrone_file)\n",
    "\n",
    "isochrone_file = '../data/output/munich/merged/walk/might/publicbuilding/30.geojson'\n",
    "calculate_pop(pop_raster_path,isochrone_file)"
   ]
  },
  {
   "cell_type": "markdown",
   "id": "1804ead2",
   "metadata": {},
   "source": [
    "### Bike"
   ]
  },
  {
   "cell_type": "code",
   "execution_count": 23,
   "id": "30b2468f",
   "metadata": {},
   "outputs": [
    {
     "name": "stdout",
     "output_type": "stream",
     "text": [
      "In Barcelona 1,878,758 people are living within the 15 min, definitively wheelchair accessible, public buildings biking isochrone.\n",
      "In Barcelona 2,531,095 people are living within the 30 mindefinitively wheelchair accessible, public buildings biking isochrone.\n"
     ]
    }
   ],
   "source": [
    "pop_raster_path = '../data/input/esp_ppp_2020_UNadj.tif'\n",
    "isochrone_file = '../data/output/barcelona/merged/bike/definitive/publicbuilding/15.geojson'\n",
    "calculate_pop(pop_raster_path,isochrone_file)\n",
    "\n",
    "isochrone_file = '../data/output/barcelona/merged/bike/definitive/publicbuilding/30.geojson'\n",
    "calculate_pop(pop_raster_path,isochrone_file)"
   ]
  },
  {
   "cell_type": "code",
   "execution_count": 24,
   "id": "6adb782a",
   "metadata": {},
   "outputs": [
    {
     "name": "stdout",
     "output_type": "stream",
     "text": [
      "In Barcelona 2,313,622 people are living within the 15 min, might be wheelchair accessible, public buildings biking isochrone.\n",
      "In Barcelona 2,836,184 people are living within the 30 minmight be wheelchair accessible, public buildings biking isochrone.\n"
     ]
    }
   ],
   "source": [
    "pop_raster_path = '../data/input/esp_ppp_2020_UNadj.tif'\n",
    "isochrone_file = '../data/output/barcelona/merged/bike/might/publicbuilding/15.geojson'\n",
    "calculate_pop(pop_raster_path,isochrone_file)\n",
    "\n",
    "isochrone_file = '../data/output/barcelona/merged/bike/might/publicbuilding/30.geojson'\n",
    "calculate_pop(pop_raster_path,isochrone_file)"
   ]
  },
  {
   "cell_type": "code",
   "execution_count": 25,
   "id": "6bf751e7",
   "metadata": {},
   "outputs": [
    {
     "name": "stdout",
     "output_type": "stream",
     "text": [
      "In Munich 1,263,305 people are living within the 15 min, definitively wheelchair accessible, public buildings biking isochrone.\n",
      "In Munich 1,767,602 people are living within the 30 mindefinitively wheelchair accessible, public buildings biking isochrone.\n"
     ]
    }
   ],
   "source": [
    "pop_raster_path = '../data/input/deu_ppp_2020_constrained.tif'\n",
    "isochrone_file = '../data/output/munich/merged/bike/definitive/publicbuilding/15.geojson'\n",
    "calculate_pop(pop_raster_path,isochrone_file)\n",
    "\n",
    "isochrone_file = '../data/output/munich/merged/bike/definitive/publicbuilding/30.geojson'\n",
    "calculate_pop(pop_raster_path,isochrone_file)"
   ]
  },
  {
   "cell_type": "code",
   "execution_count": 26,
   "id": "b00ea0bc",
   "metadata": {},
   "outputs": [
    {
     "name": "stdout",
     "output_type": "stream",
     "text": [
      "In Munich 1,600,260 people are living within the 15 min, might be wheelchair accessible, public buildings biking isochrone.\n",
      "In Munich 1,937,064 people are living within the 30 minmight be wheelchair accessible, public buildings biking isochrone.\n"
     ]
    }
   ],
   "source": [
    "pop_raster_path = '../data/input/deu_ppp_2020_constrained.tif'\n",
    "isochrone_file = '../data/output/munich/merged/bike/might/publicbuilding/15.geojson'\n",
    "calculate_pop(pop_raster_path,isochrone_file)\n",
    "\n",
    "isochrone_file = '../data/output/munich/merged/bike/might/publicbuilding/30.geojson'\n",
    "calculate_pop(pop_raster_path,isochrone_file)"
   ]
  }
 ],
 "metadata": {
  "kernelspec": {
   "display_name": "Python 3 (ipykernel)",
   "language": "python",
   "name": "python3"
  },
  "language_info": {
   "codemirror_mode": {
    "name": "ipython",
    "version": 3
   },
   "file_extension": ".py",
   "mimetype": "text/x-python",
   "name": "python",
   "nbconvert_exporter": "python",
   "pygments_lexer": "ipython3",
   "version": "3.11.8"
  }
 },
 "nbformat": 4,
 "nbformat_minor": 5
}
