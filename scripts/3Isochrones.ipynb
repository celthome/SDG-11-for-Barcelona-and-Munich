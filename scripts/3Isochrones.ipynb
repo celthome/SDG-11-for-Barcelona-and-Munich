{
 "cells": [
  {
   "cell_type": "markdown",
   "id": "b0682fc6",
   "metadata": {},
   "source": [
    "# Bike Isochrone"
   ]
  },
  {
   "cell_type": "code",
   "execution_count": null,
   "id": "e7f0ca28",
   "metadata": {},
   "outputs": [],
   "source": [
    "import json\n",
    "import time\n",
    "import os\n",
    "import geopandas as gpd\n",
    "from openrouteservice import Client\n",
    "from openrouteservice.exceptions import ApiError\n",
    "\n",
    "def calculate_isochrones_bike(input_file, output_path, output_filename, print_statement):\n",
    "    # Load poi data with GeoPandas\n",
    "    poi = gpd.read_file(input_file)\n",
    "\n",
    "    # Calculate centroids for each polygon\n",
    "    poi['centroid'] = poi['geometry'].centroid\n",
    "\n",
    "    # Change CRS to EPSG:4326\n",
    "    poi = poi.to_crs(\"EPSG:4326\")\n",
    "\n",
    "    # Get the name of the ID column\n",
    "    poi_id_column = 'id'  # Assuming the column name is 'id'\n",
    "\n",
    "    # Initialize OpenRouteService client\n",
    "    api_key = \"5b3ce3597851110001cf6248ec8fc0286b4a4fd1a90fc8108327d823\"  # Replace with your actual API key\n",
    "    client = Client(key=api_key)\n",
    "\n",
    "    # Define parameters for isochrone calculation\n",
    "    profile = 'cycling-regular'\n",
    "    range_type = 'time'\n",
    "    range_seconds = [900, 1800]  # 15 and 30 Minutes\n",
    "\n",
    "    # Create the directory if it doesn't exist\n",
    "    os.makedirs(output_path, exist_ok=True)\n",
    "\n",
    "    # Function to calculate isochrones with retry mechanism\n",
    "    def calculate_isochrones_with_retry(coordinate):\n",
    "        retries = 3  # Number of retries\n",
    "        for attempt in range(retries):\n",
    "            try:\n",
    "                isochrones = client.isochrones(locations=[coordinate], profile=profile, range_type=range_type, range=range_seconds, attributes=['total_pop'])\n",
    "                return isochrones\n",
    "            except ApiError as e:\n",
    "                if \"rate limit exceeded\" in str(e):\n",
    "                    print(f\"Rate limit exceeded. Retrying in 10 seconds...\")\n",
    "                    time.sleep(10)  # Retry after 10 seconds for rate limit errors\n",
    "                elif \"Unable to build an isochrone map\" in str(e):\n",
    "                    print(f\"Unable to build an isochrone map for POI. Skipping...\")\n",
    "                    return None\n",
    "                else:\n",
    "                    raise e  # Re-raise the exception if it's not related to rate limit exceeded\n",
    "        return None\n",
    "\n",
    "    # Iterate over poi and calculate isochrones\n",
    "    for idx, row in poi.iterrows():\n",
    "        # Get centroid coordinates of the poi\n",
    "        lon, lat = row['centroid'].x, row['centroid'].y\n",
    "        coordinate = (lon, lat)\n",
    "\n",
    "        # Calculate isochrones with retry mechanism\n",
    "        isochrones = calculate_isochrones_with_retry(coordinate)\n",
    "        if isochrones is None:\n",
    "            continue  # Skip the poi if isochrones cannot be calculated\n",
    "            \n",
    "        # Get the poi ID from the column\n",
    "        poi_id = row[poi_id_column]\n",
    "\n",
    "        # Add poi ID to each isochrone feature\n",
    "        for feature in isochrones['features']:\n",
    "            feature['properties']['poi_id'] = poi_id\n",
    "\n",
    "        # Save isochrones data to file\n",
    "        output_file_path = os.path.join(output_path, f'{output_filename}_{idx + 1}.geojson')\n",
    "        \n",
    "        with open(output_file_path, 'w') as output_file:\n",
    "            json.dump(isochrones, output_file)\n",
    "\n",
    "        print(print_statement.format(idx))\n",
    "\n",
    "        # Rate limit handling\n",
    "        time.sleep(3)  # Add a small delay to avoid rate limits and respect the rate limit\n",
    "\n",
    "    print(\"Isochrone calculation completed.\")\n"
   ]
  },
  {
   "cell_type": "markdown",
   "id": "db37e2ec",
   "metadata": {},
   "source": [
    "## Green spaces\n",
    "### Barcelona"
   ]
  },
  {
   "cell_type": "markdown",
   "id": "cd38f4d7",
   "metadata": {},
   "source": [
    "definitive wheelchair access"
   ]
  },
  {
   "cell_type": "code",
   "execution_count": null,
   "id": "838e7d06",
   "metadata": {},
   "outputs": [],
   "source": [
    "input_file = '../data/output/barcelona/access/wheelchair_greenspace.geojson'\n",
    "output_path = '../data/output/barcelona/isochrones_bike_greenspaces_wheelchair/'\n",
    "output_filename = 'b_iso_bike_greenspaces_w'\n",
    "print_statement = \"Isochrones calculated for POI {}\"\n",
    "\n",
    "calculate_isochrones_bike(input_file, output_path, output_filename, print_statement)"
   ]
  },
  {
   "cell_type": "markdown",
   "id": "5861e4b9",
   "metadata": {},
   "source": [
    "with ramps"
   ]
  },
  {
   "cell_type": "code",
   "execution_count": null,
   "id": "e66e9020",
   "metadata": {},
   "outputs": [],
   "source": [
    "input_file = '../data/output/barcelona/access/combined_greenspaces_wheelchair.geojson'\n",
    "output_path = '../data/output/barcelona/isochrones_bike_greenspaces/'\n",
    "output_filename = 'b_iso_bike_greenspaces'\n",
    "print_statement = \"Isochrones calculated for POI {}\"\n",
    "\n",
    "calculate_isochrones_bike(input_file, output_path, output_filename, print_statement)"
   ]
  },
  {
   "cell_type": "markdown",
   "id": "4625a3cc",
   "metadata": {},
   "source": [
    "### Munich"
   ]
  },
  {
   "cell_type": "code",
   "execution_count": null,
   "id": "bd133409",
   "metadata": {
    "scrolled": false
   },
   "outputs": [],
   "source": [
    "input_file = '../data/output/munich/access/wheelchair_greenspace.geojson'\n",
    "output_path = '../data/output/munich/isochrones_bike_greenspaces_wheelchair/'\n",
    "output_filename = 'b_iso_bike_greenspaces_w'\n",
    "print_statement = \"Isochrones calculated for POI {}\"\n",
    "\n",
    "calculate_isochrones_bike(input_file, output_path, output_filename, print_statement)\n",
    "\n",
    "input_file = '../data/output/munich/access/combined_greenspaces_wheelchair.geojson'\n",
    "output_path = '../data/output/munich/isochrones_bike_greenspaces/'\n",
    "output_filename = 'b_iso_bike_greenspaces'\n",
    "print_statement = \"Isochrones calculated for POI {}\"\n",
    "\n",
    "calculate_isochrones_bike(input_file, output_path, output_filename, print_statement)"
   ]
  },
  {
   "cell_type": "markdown",
   "id": "78f1f0b3",
   "metadata": {},
   "source": [
    "## Public spaces\n",
    "### Barcelona"
   ]
  },
  {
   "cell_type": "markdown",
   "id": "78600ed2",
   "metadata": {},
   "source": [
    "definitive wheelchair access"
   ]
  },
  {
   "cell_type": "code",
   "execution_count": null,
   "id": "9375b4a2",
   "metadata": {},
   "outputs": [],
   "source": [
    "input_file = '../data/output/barcelona/access/wheelchair_publicspaces.geojson'\n",
    "output_path = '../data/output/barcelona/isochrones_bike_public_spaces_wheelchair/'\n",
    "output_filename = 'b_iso_bike_public_spaces_w'\n",
    "print_statement = \"Isochrones calculated for POI {}\"\n",
    "\n",
    "calculate_isochrones_bike(input_file, output_path, output_filename, print_statement)"
   ]
  },
  {
   "cell_type": "markdown",
   "id": "24e65808",
   "metadata": {},
   "source": [
    "with nulls"
   ]
  },
  {
   "cell_type": "code",
   "execution_count": null,
   "id": "790b739f",
   "metadata": {},
   "outputs": [],
   "source": [
    "input_file = '../data/output/barcelona/access/combined_public_spaces_wheelchair.geojson'\n",
    "output_path = '../data/output/barcelona/isochrones_bike_public_spaces/'\n",
    "output_filename = 'b_iso_bike_public_spaces'\n",
    "print_statement = \"Isochrones calculated for POI {}\"\n",
    "\n",
    "calculate_isochrones_bike(input_file, output_path, output_filename, print_statement)"
   ]
  },
  {
   "cell_type": "markdown",
   "id": "f5135002",
   "metadata": {},
   "source": [
    "### Munich"
   ]
  },
  {
   "cell_type": "code",
   "execution_count": null,
   "id": "7217887a",
   "metadata": {
    "scrolled": true
   },
   "outputs": [],
   "source": [
    "input_file = '../data/output/munich/access/wheelchair_publicspaces.geojson'\n",
    "output_path = '../data/output/munich/isochrones_bike_public_spaces_wheelchair/'\n",
    "output_filename = 'b_iso_bike_public_spaces_w'\n",
    "print_statement = \"Isochrones calculated for POI {}\"\n",
    "\n",
    "calculate_isochrones_bike(input_file, output_path, output_filename, print_statement)"
   ]
  },
  {
   "cell_type": "code",
   "execution_count": null,
   "id": "6640c7a9",
   "metadata": {
    "scrolled": true
   },
   "outputs": [],
   "source": [
    "input_file = '../data/output/munich/access/combined_public_spaces_wheelchair.geojson'\n",
    "output_path = '../data/output/munich/isochrones_bike_public_spaces/'\n",
    "output_filename = 'b_iso_bike_public_spaces'\n",
    "print_statement = \"Isochrones calculated for POI {}\"\n",
    "\n",
    "calculate_isochrones_bike(input_file, output_path, output_filename, print_statement)"
   ]
  },
  {
   "cell_type": "markdown",
   "id": "e9e1a1d2",
   "metadata": {},
   "source": [
    "## Public building\n",
    "### Barcelona"
   ]
  },
  {
   "cell_type": "markdown",
   "id": "e08a8b7e",
   "metadata": {},
   "source": [
    "definitive wheelchair access"
   ]
  },
  {
   "cell_type": "code",
   "execution_count": null,
   "id": "994bab2a",
   "metadata": {},
   "outputs": [],
   "source": [
    "input_file = '../data/output/barcelona/access/wheelchair_public_building.geojson'\n",
    "output_path = '../data/output/barcelona/isochrones_bike_public_building_wheelchair/'\n",
    "output_filename = 'b_iso_bike_public_building_w'\n",
    "print_statement = \"Isochrones calculated for POI {}\"\n",
    "\n",
    "calculate_isochrones_bike(input_file, output_path, output_filename, print_statement)"
   ]
  },
  {
   "cell_type": "markdown",
   "id": "6a2face9",
   "metadata": {},
   "source": [
    "with nulls"
   ]
  },
  {
   "cell_type": "code",
   "execution_count": null,
   "id": "f9664853",
   "metadata": {
    "scrolled": true
   },
   "outputs": [],
   "source": [
    "input_file = '../data/output/barcelona/access/combined_public_building_wheelchair.geojson'\n",
    "output_path = '../data/output/barcelona/isochrones_bike_public_building/'\n",
    "output_filename = 'b_iso_bike_public_building'\n",
    "print_statement = \"Isochrones calculated for POI {}\"\n",
    "\n",
    "calculate_isochrones_bike(input_file, output_path, output_filename, print_statement)"
   ]
  },
  {
   "cell_type": "markdown",
   "id": "22b55f17",
   "metadata": {},
   "source": [
    "### Munich"
   ]
  },
  {
   "cell_type": "code",
   "execution_count": null,
   "id": "c161158c",
   "metadata": {
    "scrolled": true
   },
   "outputs": [],
   "source": [
    "input_file = '../data/output/munich/access/wheelchair_public_building.geojson'\n",
    "output_path = '../data/output/munich/isochrones_bike_public_building_wheelchair/'\n",
    "output_filename = 'b_iso_bike_public_building_w'\n",
    "print_statement = \"Isochrones calculated for POI {}\"\n",
    "\n",
    "calculate_isochrones_bike(input_file, output_path, output_filename, print_statement)"
   ]
  },
  {
   "cell_type": "code",
   "execution_count": null,
   "id": "13b5dc51",
   "metadata": {
    "scrolled": true
   },
   "outputs": [],
   "source": [
    "input_file = '../data/output/munich/access/combined_public_building_wheelchair.geojson'\n",
    "output_path = '../data/output/munich/isochrones_bike_public_building/'\n",
    "output_filename = 'b_iso_bike_public_building'\n",
    "print_statement = \"Isochrones calculated for POI {}\"\n",
    "\n",
    "calculate_isochrones_bike(input_file, output_path, output_filename, print_statement)"
   ]
  },
  {
   "cell_type": "markdown",
   "id": "06f11142",
   "metadata": {},
   "source": [
    " "
   ]
  },
  {
   "cell_type": "markdown",
   "id": "6a1c0d7e",
   "metadata": {},
   "source": [
    "# Walking Isochrones"
   ]
  },
  {
   "cell_type": "code",
   "execution_count": null,
   "id": "adeb9d79",
   "metadata": {},
   "outputs": [],
   "source": [
    "import json\n",
    "import time\n",
    "import os\n",
    "import geopandas as gpd\n",
    "from openrouteservice import Client\n",
    "from openrouteservice.exceptions import ApiError\n",
    "\n",
    "def calculate_isochrones_walk(input_file, output_path, output_filename, print_statement):\n",
    "    # Load poi data with GeoPandas\n",
    "    poi = gpd.read_file(input_file)\n",
    "\n",
    "    # Calculate centroids for each polygon\n",
    "    poi['centroid'] = poi['geometry'].centroid\n",
    "\n",
    "    # Change CRS to EPSG:4326\n",
    "    poi = poi.to_crs(\"EPSG:4326\")\n",
    "    \n",
    "    # Get the name of the ID column\n",
    "    poi_id_column = 'id'  # Assuming the column name is 'id'\n",
    "\n",
    "    # Initialize OpenRouteService client\n",
    "    api_key = \"5b3ce3597851110001cf6248ec8fc0286b4a4fd1a90fc8108327d823\"  # Replace with your actual API key\n",
    "    client = Client(key=api_key)\n",
    "\n",
    "    # Define parameters for isochrone calculation\n",
    "    profile = 'foot-walking'\n",
    "    range_type = 'time'\n",
    "    range_seconds = [900, 1800]  # 15 and 30 Minutes\n",
    "\n",
    "    # Create the directory if it doesn't exist\n",
    "    os.makedirs(output_path, exist_ok=True)\n",
    "\n",
    "    # Function to calculate isochrones with retry mechanism\n",
    "    def calculate_isochrones_with_retry(coordinate):\n",
    "        retries = 3  # Number of retries\n",
    "        for attempt in range(retries):\n",
    "            try:\n",
    "                isochrones = client.isochrones(locations=[coordinate], profile=profile, range_type=range_type, range=range_seconds, attributes=['total_pop'])\n",
    "                return isochrones\n",
    "            except ApiError as e:\n",
    "                if \"rate limit exceeded\" in str(e):\n",
    "                    print(f\"Rate limit exceeded. Retrying in 10 seconds...\")\n",
    "                    time.sleep(10)  # Retry after 10 seconds for rate limit errors\n",
    "                elif \"Unable to build an isochrone map\" in str(e):\n",
    "                    print(f\"Unable to build an isochrone map for POI. Skipping...\")\n",
    "                    return None\n",
    "                else:\n",
    "                    raise e  # Re-raise the exception if it's not related to rate limit exceeded\n",
    "        return None\n",
    "\n",
    "    # Iterate over poi and calculate isochrones\n",
    "    for idx, row in poi.iterrows():\n",
    "        # Get centroid coordinates of the poi\n",
    "        lon, lat = row['centroid'].x, row['centroid'].y\n",
    "        coordinate = (lon, lat)\n",
    "\n",
    "        # Calculate isochrones with retry mechanism\n",
    "        isochrones = calculate_isochrones_with_retry(coordinate)\n",
    "        if isochrones is None:\n",
    "            continue  # Skip the poi if isochrones cannot be calculated\n",
    "            \n",
    "        # Get the poi ID from the column\n",
    "        poi_id = row[poi_id_column]            \n",
    "\n",
    "        # Add poi ID to each isochrone feature\n",
    "        for feature in isochrones['features']:\n",
    "            feature['properties']['poi_id'] = poi_id\n",
    "\n",
    "        # Save isochrones data to file\n",
    "        output_file_path = os.path.join(output_path, f'{output_filename}_{idx + 1}.geojson')\n",
    "        \n",
    "        with open(output_file_path, 'w') as output_file:\n",
    "            json.dump(isochrones, output_file)\n",
    "\n",
    "        print(print_statement.format(idx))\n",
    "\n",
    "        # Rate limit handling\n",
    "        time.sleep(3)  # Add a small delay to avoid rate limits and respect the rate limit\n",
    "\n",
    "    print(\"Isochrone calculation completed.\")\n"
   ]
  },
  {
   "cell_type": "markdown",
   "id": "c5d2d652",
   "metadata": {},
   "source": [
    "## Green spaces\n",
    "### Barcelona"
   ]
  },
  {
   "cell_type": "markdown",
   "id": "4f05a7ba",
   "metadata": {},
   "source": [
    "definitive wheelchair"
   ]
  },
  {
   "cell_type": "code",
   "execution_count": null,
   "id": "156d6229",
   "metadata": {},
   "outputs": [],
   "source": [
    "input_file = '../data/output/barcelona/access/wheelchair_greenspace.geojson'\n",
    "output_path = '../data/output/barcelona/isochrones_foot_greenspaces_wheelchair/'\n",
    "output_filename = 'b_iso_foot_green_w'\n",
    "print_statement = \"Isochrones calculated for POI {}\"\n",
    "\n",
    "calculate_isochrones_walk(input_file, output_path, output_filename, print_statement)"
   ]
  },
  {
   "cell_type": "markdown",
   "id": "28fba48e",
   "metadata": {},
   "source": [
    "with ramps"
   ]
  },
  {
   "cell_type": "code",
   "execution_count": null,
   "id": "527e5ed4",
   "metadata": {
    "scrolled": true
   },
   "outputs": [],
   "source": [
    "input_file = '../data/output/barcelona/access/combined_greenspaces_wheelchair.geojson'\n",
    "output_path = '../data/output/barcelona/isochrones_foot_greenspaces/'\n",
    "output_filename = 'b_iso_foot_green'\n",
    "print_statement = \"Isochrones calculated for POI {}\"\n",
    "\n",
    "calculate_isochrones_walk(input_file, output_path, output_filename, print_statement)"
   ]
  },
  {
   "cell_type": "markdown",
   "id": "636436ec",
   "metadata": {},
   "source": [
    "### Munich"
   ]
  },
  {
   "cell_type": "code",
   "execution_count": null,
   "id": "1a5e727d",
   "metadata": {
    "scrolled": true
   },
   "outputs": [],
   "source": [
    "input_file = '../data/output/munich/access/wheelchair_greenspace.geojson'\n",
    "output_path = '../data/output/munich/isochrones_foot_greenspaces_wheelchair/'\n",
    "output_filename = 'b_iso_foot_green_w'\n",
    "print_statement = \"Isochrones calculated for POI {}\"\n",
    "\n",
    "calculate_isochrones_walk(input_file, output_path, output_filename, print_statement)"
   ]
  },
  {
   "cell_type": "code",
   "execution_count": null,
   "id": "30706ff2",
   "metadata": {
    "scrolled": true
   },
   "outputs": [],
   "source": [
    "input_file = '../data/output/munich/access/combined_greenspaces_wheelchair.geojson'\n",
    "output_path = '../data/output/munich/isochrones_foot_greenspaces/'\n",
    "output_filename = 'b_iso_foot_green'\n",
    "print_statement = \"Isochrones calculated for POI {}\"\n",
    "\n",
    "calculate_isochrones_walk(input_file, output_path, output_filename, print_statement)"
   ]
  },
  {
   "cell_type": "markdown",
   "id": "0906a3fb",
   "metadata": {},
   "source": [
    "## Public spaces\n",
    "### Barcelona"
   ]
  },
  {
   "cell_type": "markdown",
   "id": "349b6cff",
   "metadata": {},
   "source": [
    "definitive wheelchair"
   ]
  },
  {
   "cell_type": "code",
   "execution_count": null,
   "id": "446fca44",
   "metadata": {
    "scrolled": true
   },
   "outputs": [],
   "source": [
    "input_file = '../data/output/barcelona/access/wheelchair_publicspaces.geojson'\n",
    "output_path = '../data/output/barcelona/isochrones_foot_public_spaces_wheelchair/'\n",
    "output_filename = 'b_iso_foot_public_spaces_w'\n",
    "print_statement = \"Isochrones calculated for POI {}\"\n",
    "\n",
    "calculate_isochrones_walk(input_file, output_path, output_filename, print_statement)"
   ]
  },
  {
   "cell_type": "markdown",
   "id": "887b16f6",
   "metadata": {},
   "source": [
    "with nulls"
   ]
  },
  {
   "cell_type": "code",
   "execution_count": null,
   "id": "40d1f45c",
   "metadata": {},
   "outputs": [],
   "source": [
    "input_file = '../data/output/barcelona/access/combined_public_spaces_wheelchair.geojson'\n",
    "output_path = '../data/output/barcelona/isochrones_foot_public_spaces/'\n",
    "output_filename = 'b_iso_foot_public_spaces'\n",
    "print_statement = \"Isochrones calculated for POI {}\"\n",
    "\n",
    "calculate_isochrones_walk(input_file, output_path, output_filename, print_statement)"
   ]
  },
  {
   "cell_type": "markdown",
   "id": "0874749d",
   "metadata": {},
   "source": [
    "### Munich"
   ]
  },
  {
   "cell_type": "code",
   "execution_count": null,
   "id": "ed83f10d",
   "metadata": {
    "scrolled": true
   },
   "outputs": [],
   "source": [
    "input_file = '../data/output/munich/access/wheelchair_publicspaces.geojson'\n",
    "output_path = '../data/output/munich/isochrones_foot_public_spaces_wheelchair/'\n",
    "output_filename = 'b_iso_foot_public_spaces_w'\n",
    "print_statement = \"Isochrones calculated for POI {}\"\n",
    "\n",
    "calculate_isochrones_walk(input_file, output_path, output_filename, print_statement)\n"
   ]
  },
  {
   "cell_type": "code",
   "execution_count": null,
   "id": "6b9b7ba3",
   "metadata": {},
   "outputs": [],
   "source": [
    "input_file = '../data/output/munich/access/combined_public_spaces_wheelchair.geojson'\n",
    "output_path = '../data/output/munich/isochrones_foot_public_spaces/'\n",
    "output_filename = 'b_iso_foot_public_spaces'\n",
    "print_statement = \"Isochrones calculated for POI {}\"\n",
    "\n",
    "calculate_isochrones_walk(input_file, output_path, output_filename, print_statement)"
   ]
  },
  {
   "cell_type": "markdown",
   "id": "f0ad87be",
   "metadata": {},
   "source": [
    "## Public buildings\n",
    "### Barcelona"
   ]
  },
  {
   "cell_type": "markdown",
   "id": "1d06560f",
   "metadata": {},
   "source": [
    "definitive wheelchair"
   ]
  },
  {
   "cell_type": "code",
   "execution_count": null,
   "id": "bc6b1841",
   "metadata": {},
   "outputs": [],
   "source": [
    "input_file = '../data/output/barcelona/access/wheelchair_public_building.geojson'\n",
    "output_path = '../data/output/barcelona/isochrones_foot_public_building_wheelchair/'\n",
    "output_filename = 'b_iso_foot_public_building_w'\n",
    "print_statement = \"Isochrones calculated for POI {}\"\n",
    "\n",
    "calculate_isochrones_walk(input_file, output_path, output_filename, print_statement)"
   ]
  },
  {
   "cell_type": "markdown",
   "id": "0115daf7",
   "metadata": {},
   "source": [
    "with nulls"
   ]
  },
  {
   "cell_type": "code",
   "execution_count": null,
   "id": "83e29646",
   "metadata": {},
   "outputs": [],
   "source": [
    "input_file = '../data/output/barcelona/access/combined_public_building_wheelchair.geojson'\n",
    "output_path = '../data/output/barcelona/isochrones_foot_public_building_wheelchair/'\n",
    "output_filename = 'b_iso_foot_public_building_w'\n",
    "print_statement = \"Isochrones calculated for POI {}\"\n",
    "\n",
    "calculate_isochrones_walk(input_file, output_path, output_filename, print_statement)"
   ]
  },
  {
   "cell_type": "markdown",
   "id": "0deeeba8",
   "metadata": {},
   "source": [
    "### Munich"
   ]
  },
  {
   "cell_type": "code",
   "execution_count": null,
   "id": "81f913de",
   "metadata": {
    "scrolled": true
   },
   "outputs": [],
   "source": [
    "input_file = '../data/output/munich/access/wheelchair_public_building.geojson'\n",
    "output_path = '../data/output/munich/isochrones_foot_public_building_wheelchair/'\n",
    "output_filename = 'b_iso_foot_public_building_w'\n",
    "print_statement = \"Isochrones calculated for POI {}\"\n",
    "\n",
    "calculate_isochrones_walk(input_file, output_path, output_filename, print_statement)"
   ]
  },
  {
   "cell_type": "code",
   "execution_count": null,
   "id": "c5280052",
   "metadata": {
    "scrolled": true
   },
   "outputs": [],
   "source": [
    "input_file = '../data/output/munich/access/combined_public_building_wheelchair.geojson'\n",
    "output_path = '../data/output/munich/isochrones_foot_public_building_wheelchair/'\n",
    "output_filename = 'b_iso_foot_public_building_w'\n",
    "print_statement = \"Isochrones calculated for POI {}\"\n",
    "\n",
    "calculate_isochrones_walk(input_file, output_path, output_filename, print_statement)"
   ]
  },
  {
   "cell_type": "code",
   "execution_count": null,
   "id": "995b718c",
   "metadata": {},
   "outputs": [],
   "source": []
  },
  {
   "cell_type": "code",
   "execution_count": null,
   "id": "2d230fb0",
   "metadata": {},
   "outputs": [],
   "source": []
  }
 ],
 "metadata": {
  "kernelspec": {
   "display_name": "Python 3 (ipykernel)",
   "language": "python",
   "name": "python3"
  },
  "language_info": {
   "codemirror_mode": {
    "name": "ipython",
    "version": 3
   },
   "file_extension": ".py",
   "mimetype": "text/x-python",
   "name": "python",
   "nbconvert_exporter": "python",
   "pygments_lexer": "ipython3",
   "version": "3.11.8"
  }
 },
 "nbformat": 4,
 "nbformat_minor": 5
}
